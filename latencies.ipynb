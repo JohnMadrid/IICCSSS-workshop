{
 "cells": [
  {
   "cell_type": "markdown",
   "metadata": {
    "slideshow": {
     "slide_type": "slide"
    }
   },
   "source": [
    "<img src=\"logos/‎cover‎001.png\" alt=\"Drawing\"/>"
   ]
  },
  {
   "cell_type": "markdown",
   "metadata": {
    "slideshow": {
     "slide_type": "slide"
    }
   },
   "source": [
    "<img src=\"logos/‎redbar001.png\" alt=\"Drawing\"/>\n",
    "<br />\n",
    "\n",
    "## **Overview**\n",
    "1. Ecological validity and VR\n",
    "2. EEG and VR setup\n",
    "3. Applications\n",
    "4. Latency tests\n",
    "5. ERP stimulus onsets"
   ]
  },
  {
   "cell_type": "markdown",
   "source": [
    "<img src=\"logos/‎redbar001.png\" alt=\"Drawing\"/>\n",
    "<br />\n",
    "\n",
    "# 1. Ecological validity and VR\n",
    "\n",
    "### **EV**:\n",
    "- how well findings achieved within non-naturalistic and action-deprived contexts **generalize** to the real-world conditions in which the brain evolved (Nastase et al., 2020; Voelkl et al., 2020).\n",
    "- Findings that fail to **generalize** may lead to misconceptions about human cognitive behavior Kingstone et al. (2003)\n",
    "- Reevaluate conventional methods and develop experiments resembling real-world conditions.\n",
    "- Real-world neuroscience is a difficult task and most methods are unsuitable.\n",
    "- CAUTION: setup should capture important variables, no recreate real life (Schmuckler, 2001; Chang et al., 2022)."
   ],
   "metadata": {
    "collapsed": false
   }
  },
  {
   "cell_type": "markdown",
   "metadata": {
    "slideshow": {
     "slide_type": "slide"
    }
   },
   "source": [
    "<img src=\"logos/‎redbar001.png\" alt=\"Drawing\"/>\n",
    "<br />\n",
    "\n",
    "# 1. Ecological validity and VR\n",
    "\n",
    "### **VR**:\n",
    "- _\"Synthetic sensory information that leads to perceptions of environments and their contents as if they were not synthetic.\"_ Blascovich et al. (2002, p. 105)\n",
    "- Simulated environments are perceptual and auditory and can allow for movement and action\n",
    "- _“computer-generated world”_ (Pan and Hamilton, 2018)\n",
    "-"
   ]
  },
  {
   "cell_type": "code",
   "execution_count": null,
   "outputs": [],
   "source": [],
   "metadata": {
    "collapsed": false
   }
  }
 ],
 "metadata": {
  "celltoolbar": "Slideshow",
  "kernelspec": {
   "display_name": "Python 3",
   "language": "python",
   "name": "python3"
  },
  "language_info": {
   "codemirror_mode": {
    "name": "ipython",
    "version": 3
   },
   "file_extension": ".py",
   "mimetype": "text/x-python",
   "name": "python",
   "nbconvert_exporter": "python",
   "pygments_lexer": "ipython3",
   "version": "3.8.10"
  }
 },
 "nbformat": 4,
 "nbformat_minor": 1
}
