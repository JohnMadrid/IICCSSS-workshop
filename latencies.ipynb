{
 "cells": [
  {
   "cell_type": "markdown",
   "metadata": {
    "slideshow": {
     "slide_type": "slide"
    }
   },
   "source": [
    "<img src=\"logos/‎cover‎001.png\" alt=\"Drawing\"/>"
   ]
  },
  {
   "cell_type": "code",
   "execution_count": 3,
   "metadata": {},
   "outputs": [],
   "source": [
    "# imports\n",
    "import pyxdf\n",
    "import pandas as pd\n",
    "import copy\n",
    "import datetime\n",
    "import itertools\n",
    "import os\n",
    "import matplotlib.pyplot as plt\n",
    "import numpy as np\n",
    "from IPython.display import display\n",
    "import seaborn as sns\n",
    "from tqdm.notebook import tqdm"
   ]
  },
  {
   "cell_type": "markdown",
   "source": [
    "# Load data\n",
    "Test files with different durations are stored in the folder \"data\". Before loading them, we want to access their path and save them in a dictionary.\n",
    "\n",
    "### Task 1:\n",
    "- Get all files from \"data\" folder, sort them alphabetically and save them to a variable \"files\"\n",
    "Hint: os.listdir()"
   ],
   "metadata": {
    "collapsed": false
   }
  },
  {
   "cell_type": "code",
   "execution_count": 20,
   "outputs": [
    {
     "data": {
      "text/plain": "['lsl_test1.xdf', 'lsl_test2.xdf', 'lsl_test3.xdf']"
     },
     "execution_count": 20,
     "metadata": {},
     "output_type": "execute_result"
    }
   ],
   "source": [
    "# get all files from the folder \"data\"\n",
    "files = os.listdir(\"data\")\n",
    "# sort them alphabetically\n",
    "files.sort()\n",
    "files"
   ],
   "metadata": {
    "collapsed": false
   }
  },
  {
   "cell_type": "code",
   "execution_count": 21,
   "outputs": [
    {
     "data": {
      "text/plain": "{0: {'file': 'lsl_test1.xdf', 'created': '05.08.2022 16:27'},\n 1: {'file': 'lsl_test2.xdf', 'created': '05.08.2022 17:09'},\n 2: {'file': 'lsl_test3.xdf', 'created': '05.08.2022 17:27'}}"
     },
     "metadata": {},
     "output_type": "display_data"
    }
   ],
   "source": [
    "# save all files to an empty dictionary \"recordings\"\n",
    "recordings = {}\n",
    "\n",
    "for i, file in enumerate(files):  # store and display all files\n",
    "    created = os.path.getmtime(f\"data/{file}\")  # creation timestamp\n",
    "    created = datetime.datetime.fromtimestamp(created)  # translate as datetime\n",
    "    created = created.strftime(\"%d.%m.%Y %H:%M\")  # arrange it\n",
    "    recordings[i] = {\"file\": file, \"created\": created}\n",
    "\n",
    "files = [f.split(\".\")[0] for f in files]\n",
    "# display the recordings and metadata\n",
    "display(recordings)"
   ],
   "metadata": {
    "collapsed": false
   }
  },
  {
   "cell_type": "markdown",
   "source": [
    "# Extensible Data Format (XDF)\n",
    "\n",
    ".XDF is a format to store multiple channels of time series data with specific meta information.\n",
    "For the latency test, we stored 3 streams\n",
    "- Unity: 'Visual',\n",
    "- EEG: 'openvibeMarkers', 'openvibeSignal'\n",
    "\n",
    "The loaded .XDF file results in a list of dictionaries with two main components:\n",
    "\n",
    "1. **'time_series':** the information sent from Unity and EEG to via LSL\n",
    "2. **'time_stamps':** the time stamps for each datapoint received"
   ],
   "metadata": {
    "collapsed": false
   }
  },
  {
   "cell_type": "markdown",
   "source": [
    "### Task 2:\n",
    "Load data streams for test 1\n",
    "Hint: look at [.XDF website info](https://pypi.org/project/pyxdf/)"
   ],
   "metadata": {
    "collapsed": false
   }
  },
  {
   "cell_type": "code",
   "execution_count": 49,
   "outputs": [
    {
     "data": {
      "text/plain": "[{'info': defaultdict(list,\n              {'name': ['openvibeMarkers'],\n               'type': ['Markers'],\n               'channel_count': ['1'],\n               'channel_format': ['int32'],\n               'source_id': ['(0xb4e83c55, 0xfbc1c4eb)'],\n               'nominal_srate': ['0.000000000000000'],\n               'version': ['1.100000000000000'],\n               'created_at': ['237832.7103915000'],\n               'uid': ['8cc5f0ca-0733-4052-9e83-c41e7c935a67'],\n               'session_id': ['default'],\n               'hostname': ['wd-left'],\n               'v4address': [None],\n               'v4data_port': ['16573'],\n               'v4service_port': ['16573'],\n               'v6address': [None],\n               'v6data_port': ['16573'],\n               'v6service_port': ['16573'],\n               'desc': [defaultdict(list,\n                            {'channels': [defaultdict(list,\n                                          {'channel': [defaultdict(list,\n                                                        {'label': ['Stimulations'],\n                                                         'type': ['marker']})]})]})],\n               'stream_id': 2,\n               'effective_srate': 0}),\n  'footer': {'info': defaultdict(list,\n               {'first_timestamp': ['0'],\n                'last_timestamp': ['0'],\n                'sample_count': ['0'],\n                'clock_offsets': [defaultdict(list,\n                             {'offset': [defaultdict(list,\n                                           {'time': ['237984.4891699'],\n                                            'value': ['-4.600020474754274e-06']}),\n                               defaultdict(list,\n                                           {'time': ['237989.4897644'],\n                                            'value': ['2.499989932402968e-06']}),\n                               defaultdict(list,\n                                           {'time': ['237994.4904274'],\n                                            'value': ['-4.500005161389709e-06']}),\n                               defaultdict(list,\n                                           {'time': ['237999.49106485'],\n                                            'value': ['1.749998773448169e-06']}),\n                               defaultdict(list,\n                                           {'time': ['238004.4916699'],\n                                            'value': ['-2.100001438520849e-06']}),\n                               defaultdict(list,\n                                           {'time': ['238009.4922635'],\n                                            'value': ['-2.999993739649653e-06']}),\n                               defaultdict(list,\n                                           {'time': ['238014.49288705'],\n                                            'value': ['-3.750014002434909e-06']}),\n                               defaultdict(list,\n                                           {'time': ['238019.49355305'],\n                                            'value': ['-1.449996489100158e-06']}),\n                               defaultdict(list,\n                                           {'time': ['238024.4941609'],\n                                            'value': ['-1.599983079358935e-06']}),\n                               defaultdict(list,\n                                           {'time': ['238029.49480915'],\n                                            'value': ['-6.499903975054622e-07']}),\n                               defaultdict(list,\n                                           {'time': ['238034.49538415'],\n                                            'value': ['-5.249996320344508e-06']}),\n                               defaultdict(list,\n                                           {'time': ['238039.4960032'],\n                                            'value': ['-5.200010491535068e-06']}),\n                               defaultdict(list,\n                                           {'time': ['238044.4966219'],\n                                            'value': ['1.00000761449337e-07']}),\n                               defaultdict(list,\n                                           {'time': ['238049.4972717'],\n                                            'value': ['4.300003638491035e-06']}),\n                               defaultdict(list,\n                                           {'time': ['238054.49790445'],\n                                            'value': ['-4.650006303563714e-06']}),\n                               defaultdict(list,\n                                           {'time': ['238059.49853665'],\n                                            'value': ['2.05000105779618e-06']}),\n                               defaultdict(list,\n                                           {'time': ['238064.49914865'],\n                                            'value': ['-4.549990990199149e-06']}),\n                               defaultdict(list,\n                                           {'time': ['238069.49977095'],\n                                            'value': ['-4.349989467300475e-06']}),\n                               defaultdict(list,\n                                           {'time': ['238074.5003655'],\n                                            'value': ['-7.999915396794677e-07']}),\n                               defaultdict(list,\n                                           {'time': ['238079.50099235'],\n                                            'value': ['-4.249988705851138e-06']}),\n                               defaultdict(list,\n                                           {'time': ['238084.50165455'],\n                                            'value': ['-3.149994881823659e-06']}),\n                               defaultdict(list,\n                                           {'time': ['238089.502259'],\n                                            'value': ['-2.00001522898674e-07']}),\n                               defaultdict(list,\n                                           {'time': ['238094.50288545'],\n                                            'value': ['-2.050015609711409e-06']}),\n                               defaultdict(list,\n                                           {'time': ['238099.5035175'],\n                                            'value': ['-2.700006007216871e-06']}),\n                               defaultdict(list,\n                                           {'time': ['238104.50411045'],\n                                            'value': ['-4.949994035996497e-06']}),\n                               defaultdict(list,\n                                           {'time': ['238109.5047601'],\n                                            'value': ['-3.799999831244349e-06']}),\n                               defaultdict(list,\n                                           {'time': ['238114.5054022'],\n                                            'value': ['-4.80000744573772e-06']}),\n                               defaultdict(list,\n                                           {'time': ['238119.5059975'],\n                                            'value': ['5.400012014433742e-06']}),\n                               defaultdict(list,\n                                           {'time': ['238124.50663205'],\n                                            'value': ['-2.350003342144191e-06']}),\n                               defaultdict(list,\n                                           {'time': ['238129.507244'],\n                                            'value': ['4.000001354143023e-06']}),\n                               defaultdict(list,\n                                           {'time': ['238134.5078922'],\n                                            'value': ['-2.699991455301642e-06']}),\n                               defaultdict(list,\n                                           {'time': ['238139.50849615'],\n                                            'value': ['-3.649984137155116e-06']}),\n                               defaultdict(list,\n                                           {'time': ['238144.5090917'],\n                                            'value': ['-1.099993824027479e-06']}),\n                               defaultdict(list,\n                                           {'time': ['238149.5097448'],\n                                            'value': ['-3.599998308345675e-06']}),\n                               defaultdict(list,\n                                           {'time': ['238154.51037205'],\n                                            'value': ['-4.050001734867692e-06']}),\n                               defaultdict(list,\n                                           {'time': ['238159.5110063'],\n                                            'value': ['-2.800006768666208e-06']}),\n                               defaultdict(list,\n                                           {'time': ['238164.51161665'],\n                                            'value': ['-9.499926818534732e-07']}),\n                               defaultdict(list,\n                                           {'time': ['238169.51223975'],\n                                            'value': ['-5.649999366141856e-06']}),\n                               defaultdict(list,\n                                           {'time': ['238174.51288275'],\n                                            'value': ['-5.149995558895171e-06']}),\n                               defaultdict(list,\n                                           {'time': ['238179.51348395'],\n                                            'value': ['-4.550005542114377e-06']}),\n                               defaultdict(list,\n                                           {'time': ['238184.514128'],\n                                            'value': ['-4.300003638491035e-06']}),\n                               defaultdict(list,\n                                           {'time': ['238189.5147321'],\n                                            'value': ['-1.099993824027479e-06']}),\n                               defaultdict(list,\n                                           {'time': ['238194.51536205'],\n                                            'value': ['-5.349997081793845e-06']}),\n                               defaultdict(list,\n                                           {'time': ['238199.51597625'],\n                                            'value': ['2.450004103593528e-06']}),\n                               defaultdict(list,\n                                           {'time': ['238204.51660255'],\n                                            'value': ['-3.05000867228955e-06']}),\n                               defaultdict(list,\n                                           {'time': ['238209.51722215'],\n                                            'value': ['3.499881131574512e-07']}),\n                               defaultdict(list,\n                                           {'time': ['238214.51784745'],\n                                            'value': ['-1.849984982982278e-06']})]})]})},\n  'time_series': array([], shape=(1, 0), dtype=float64),\n  'time_stamps': array([], dtype=float64)},\n {'info': defaultdict(list,\n              {'name': ['Visual'],\n               'type': ['Marker'],\n               'channel_count': ['3'],\n               'channel_format': ['float32'],\n               'source_id': ['79136ca7-bb7c-45b8-85f4-99ac869cd6a4'],\n               'nominal_srate': ['0.000000000000000'],\n               'version': ['1.100000000000000'],\n               'created_at': ['247920.7126674000'],\n               'uid': ['5763a41e-7b69-4a04-b948-b8f13ee8d018'],\n               'session_id': ['default'],\n               'hostname': ['ml03'],\n               'v4address': [None],\n               'v4data_port': ['16572'],\n               'v4service_port': ['16572'],\n               'v6address': [None],\n               'v6data_port': ['16572'],\n               'v6service_port': ['16572'],\n               'desc': [None],\n               'stream_id': 1,\n               'effective_srate': 0}),\n  'footer': {'info': defaultdict(list,\n               {'first_timestamp': ['247983.9798782'],\n                'last_timestamp': ['248218.9741482'],\n                'sample_count': ['21150'],\n                'clock_offsets': [defaultdict(list,\n                             {'offset': [defaultdict(list,\n                                           {'time': ['247989.6169266'],\n                                            'value': ['-10005.1277609']}),\n                               defaultdict(list,\n                                           {'time': ['247994.6175314'],\n                                            'value': ['-10005.1277648']}),\n                               defaultdict(list,\n                                           {'time': ['247999.6181894'],\n                                            'value': ['-10005.1277573']}),\n                               defaultdict(list,\n                                           {'time': ['248004.61880535'],\n                                            'value': ['-10005.12774785001']}),\n                               defaultdict(list,\n                                           {'time': ['248009.61943005'],\n                                            'value': ['-10005.12774785']}),\n                               defaultdict(list,\n                                           {'time': ['248014.6200489'],\n                                            'value': ['-10005.1277524']}),\n                               defaultdict(list,\n                                           {'time': ['248019.62065275'],\n                                            'value': ['-10005.12774405']}),\n                               defaultdict(list,\n                                           {'time': ['248024.62129605'],\n                                            'value': ['-10005.12774454999']}),\n                               defaultdict(list,\n                                           {'time': ['248029.62189755'],\n                                            'value': ['-10005.12773875']}),\n                               defaultdict(list,\n                                           {'time': ['248034.62254495'],\n                                            'value': ['-10005.12773644998']}),\n                               defaultdict(list,\n                                           {'time': ['248039.62311265'],\n                                            'value': ['-10005.12773384999']}),\n                               defaultdict(list,\n                                           {'time': ['248044.623727'],\n                                            'value': ['-10005.12772829999']}),\n                               defaultdict(list,\n                                           {'time': ['248049.62435065'],\n                                            'value': ['-10005.12772924999']}),\n                               defaultdict(list,\n                                           {'time': ['248054.6250165'],\n                                            'value': ['-10005.12772379999']}),\n                               defaultdict(list,\n                                           {'time': ['248059.6256226'],\n                                            'value': ['-10005.1277227']}),\n                               defaultdict(list,\n                                           {'time': ['248064.62624625'],\n                                            'value': ['-10005.12772245001']}),\n                               defaultdict(list,\n                                           {'time': ['248069.6268826'],\n                                            'value': ['-10005.1277218']}),\n                               defaultdict(list,\n                                           {'time': ['248074.6274562'],\n                                            'value': ['-10005.1277171']}),\n                               defaultdict(list,\n                                           {'time': ['248079.6280762'],\n                                            'value': ['-10005.1277117']}),\n                               defaultdict(list,\n                                           {'time': ['248084.6286983'],\n                                            'value': ['-10005.12771109999']}),\n                               defaultdict(list,\n                                           {'time': ['248089.6293586'],\n                                            'value': ['-10005.12770749998']}),\n                               defaultdict(list,\n                                           {'time': ['248094.629935'],\n                                            'value': ['-10005.12770350001']}),\n                               defaultdict(list,\n                                           {'time': ['248099.6305894'],\n                                            'value': ['-10005.1277061']}),\n                               defaultdict(list,\n                                           {'time': ['248104.63121465'],\n                                            'value': ['-10005.12769975']}),\n                               defaultdict(list,\n                                           {'time': ['248109.63180635'],\n                                            'value': ['-10005.12770185001']}),\n                               defaultdict(list,\n                                           {'time': ['248114.6324568'],\n                                            'value': ['-10005.1276991']}),\n                               defaultdict(list,\n                                           {'time': ['248119.6330794'],\n                                            'value': ['-10005.1276989']}),\n                               defaultdict(list,\n                                           {'time': ['248124.6336981'],\n                                            'value': ['-10005.127695']}),\n                               defaultdict(list,\n                                           {'time': ['248129.63432665'],\n                                            'value': ['-10005.12769674999']}),\n                               defaultdict(list,\n                                           {'time': ['248134.6349405'],\n                                            'value': ['-10005.1276925']}),\n                               defaultdict(list,\n                                           {'time': ['248139.63556195'],\n                                            'value': ['-10005.12768784999']}),\n                               defaultdict(list,\n                                           {'time': ['248144.63619345'],\n                                            'value': ['-10005.12768445']}),\n                               defaultdict(list,\n                                           {'time': ['248149.6368029'],\n                                            'value': ['-10005.1276868']}),\n                               defaultdict(list,\n                                           {'time': ['248154.63742495'],\n                                            'value': ['-10005.12768384999']}),\n                               defaultdict(list,\n                                           {'time': ['248159.6380526'],\n                                            'value': ['-10005.1276847']}),\n                               defaultdict(list,\n                                           {'time': ['248164.6386848'],\n                                            'value': ['-10005.1276812']}),\n                               defaultdict(list,\n                                           {'time': ['248169.6392947'],\n                                            'value': ['-10005.12767900001']}),\n                               defaultdict(list,\n                                           {'time': ['248174.639924'],\n                                            'value': ['-10005.127673']}),\n                               defaultdict(list,\n                                           {'time': ['248179.6405288'],\n                                            'value': ['-10005.12766900001']}),\n                               defaultdict(list,\n                                           {'time': ['248184.6411719'],\n                                            'value': ['-10005.1276772']}),\n                               defaultdict(list,\n                                           {'time': ['248189.64179155'],\n                                            'value': ['-10005.12767365']}),\n                               defaultdict(list,\n                                           {'time': ['248194.642403'],\n                                            'value': ['-10005.1276718']}),\n                               defaultdict(list,\n                                           {'time': ['248199.643023'],\n                                            'value': ['-10005.12766639999']}),\n                               defaultdict(list,\n                                           {'time': ['248204.64364465'],\n                                            'value': ['-10005.12766605']}),\n                               defaultdict(list,\n                                           {'time': ['248209.6442647'],\n                                            'value': ['-10005.12766509999']}),\n                               defaultdict(list,\n                                           {'time': ['248214.6448604'],\n                                            'value': ['-10005.12766700001']}),\n                               defaultdict(list,\n                                           {'time': ['248219.6455093'],\n                                            'value': ['-10005.1276635']})]})]})},\n  'time_series': array([[5.6810000e+03, 0.0000000e+00, 6.3525318e+01],\n         [5.6820000e+03, 0.0000000e+00, 6.3536278e+01],\n         [5.6830000e+03, 0.0000000e+00, 6.3547421e+01],\n         ...,\n         [2.6838000e+04, 2.0000000e+00, 2.9849731e+02],\n         [2.6839000e+04, 2.0000000e+00, 2.9850845e+02],\n         [2.6840000e+04, 2.0000000e+00, 2.9851959e+02]], dtype=float32),\n  'time_stamps': array([237978.85212014, 237978.86307834, 237978.87422145, ...,\n         238213.82422965, 238213.83534275, 238213.84649086])},\n {'info': defaultdict(list,\n              {'name': ['openvibeSignal'],\n               'type': ['signal'],\n               'channel_count': ['72'],\n               'channel_format': ['float32'],\n               'source_id': ['(0x7c0a6d67, 0x9a38d9e6)'],\n               'nominal_srate': ['1024.000000000000'],\n               'version': ['1.100000000000000'],\n               'created_at': ['237832.7014922000'],\n               'uid': ['a06abe78-7893-4ddc-aec3-417ece6f7ffc'],\n               'session_id': ['default'],\n               'hostname': ['wd-left'],\n               'v4address': [None],\n               'v4data_port': ['16572'],\n               'v4service_port': ['16572'],\n               'v6address': [None],\n               'v6data_port': ['16572'],\n               'v6service_port': ['16572'],\n               'desc': [defaultdict(list,\n                            {'channels': [defaultdict(list,\n                                          {'channel': [defaultdict(list,\n                                                        {'label': ['ExG1'],\n                                                         'unit': ['unknown'],\n                                                         'type': ['signal']}),\n                                            defaultdict(list,\n                                                        {'label': ['ExG2'],\n                                                         'unit': ['unknown'],\n                                                         'type': ['signal']}),\n                                            defaultdict(list,\n                                                        {'label': ['ExG3'],\n                                                         'unit': ['unknown'],\n                                                         'type': ['signal']}),\n                                            defaultdict(list,\n                                                        {'label': ['ExG4'],\n                                                         'unit': ['unknown'],\n                                                         'type': ['signal']}),\n                                            defaultdict(list,\n                                                        {'label': ['ExG5'],\n                                                         'unit': ['unknown'],\n                                                         'type': ['signal']}),\n                                            defaultdict(list,\n                                                        {'label': ['ExG6'],\n                                                         'unit': ['unknown'],\n                                                         'type': ['signal']}),\n                                            defaultdict(list,\n                                                        {'label': ['ExG7'],\n                                                         'unit': ['unknown'],\n                                                         'type': ['signal']}),\n                                            defaultdict(list,\n                                                        {'label': ['ExG8'],\n                                                         'unit': ['unknown'],\n                                                         'type': ['signal']}),\n                                            defaultdict(list,\n                                                        {'label': ['ExG9'],\n                                                         'unit': ['unknown'],\n                                                         'type': ['signal']}),\n                                            defaultdict(list,\n                                                        {'label': ['ExG10'],\n                                                         'unit': ['unknown'],\n                                                         'type': ['signal']}),\n                                            defaultdict(list,\n                                                        {'label': ['ExG11'],\n                                                         'unit': ['unknown'],\n                                                         'type': ['signal']}),\n                                            defaultdict(list,\n                                                        {'label': ['ExG12'],\n                                                         'unit': ['unknown'],\n                                                         'type': ['signal']}),\n                                            defaultdict(list,\n                                                        {'label': ['ExG13'],\n                                                         'unit': ['unknown'],\n                                                         'type': ['signal']}),\n                                            defaultdict(list,\n                                                        {'label': ['ExG14'],\n                                                         'unit': ['unknown'],\n                                                         'type': ['signal']}),\n                                            defaultdict(list,\n                                                        {'label': ['ExG15'],\n                                                         'unit': ['unknown'],\n                                                         'type': ['signal']}),\n                                            defaultdict(list,\n                                                        {'label': ['ExG16'],\n                                                         'unit': ['unknown'],\n                                                         'type': ['signal']}),\n                                            defaultdict(list,\n                                                        {'label': ['ExG17'],\n                                                         'unit': ['unknown'],\n                                                         'type': ['signal']}),\n                                            defaultdict(list,\n                                                        {'label': ['ExG18'],\n                                                         'unit': ['unknown'],\n                                                         'type': ['signal']}),\n                                            defaultdict(list,\n                                                        {'label': ['ExG19'],\n                                                         'unit': ['unknown'],\n                                                         'type': ['signal']}),\n                                            defaultdict(list,\n                                                        {'label': ['ExG20'],\n                                                         'unit': ['unknown'],\n                                                         'type': ['signal']}),\n                                            defaultdict(list,\n                                                        {'label': ['ExG21'],\n                                                         'unit': ['unknown'],\n                                                         'type': ['signal']}),\n                                            defaultdict(list,\n                                                        {'label': ['ExG22'],\n                                                         'unit': ['unknown'],\n                                                         'type': ['signal']}),\n                                            defaultdict(list,\n                                                        {'label': ['ExG23'],\n                                                         'unit': ['unknown'],\n                                                         'type': ['signal']}),\n                                            defaultdict(list,\n                                                        {'label': ['ExG24'],\n                                                         'unit': ['unknown'],\n                                                         'type': ['signal']}),\n                                            defaultdict(list,\n                                                        {'label': ['ExG25'],\n                                                         'unit': ['unknown'],\n                                                         'type': ['signal']}),\n                                            defaultdict(list,\n                                                        {'label': ['ExG26'],\n                                                         'unit': ['unknown'],\n                                                         'type': ['signal']}),\n                                            defaultdict(list,\n                                                        {'label': ['ExG27'],\n                                                         'unit': ['unknown'],\n                                                         'type': ['signal']}),\n                                            defaultdict(list,\n                                                        {'label': ['ExG28'],\n                                                         'unit': ['unknown'],\n                                                         'type': ['signal']}),\n                                            defaultdict(list,\n                                                        {'label': ['ExG29'],\n                                                         'unit': ['unknown'],\n                                                         'type': ['signal']}),\n                                            defaultdict(list,\n                                                        {'label': ['ExG30'],\n                                                         'unit': ['unknown'],\n                                                         'type': ['signal']}),\n                                            defaultdict(list,\n                                                        {'label': ['ExG31'],\n                                                         'unit': ['unknown'],\n                                                         'type': ['signal']}),\n                                            defaultdict(list,\n                                                        {'label': ['ExG32'],\n                                                         'unit': ['unknown'],\n                                                         'type': ['signal']}),\n                                            defaultdict(list,\n                                                        {'label': ['ExG33'],\n                                                         'unit': ['unknown'],\n                                                         'type': ['signal']}),\n                                            defaultdict(list,\n                                                        {'label': ['ExG34'],\n                                                         'unit': ['unknown'],\n                                                         'type': ['signal']}),\n                                            defaultdict(list,\n                                                        {'label': ['ExG35'],\n                                                         'unit': ['unknown'],\n                                                         'type': ['signal']}),\n                                            defaultdict(list,\n                                                        {'label': ['ExG36'],\n                                                         'unit': ['unknown'],\n                                                         'type': ['signal']}),\n                                            defaultdict(list,\n                                                        {'label': ['ExG37'],\n                                                         'unit': ['unknown'],\n                                                         'type': ['signal']}),\n                                            defaultdict(list,\n                                                        {'label': ['ExG38'],\n                                                         'unit': ['unknown'],\n                                                         'type': ['signal']}),\n                                            defaultdict(list,\n                                                        {'label': ['ExG39'],\n                                                         'unit': ['unknown'],\n                                                         'type': ['signal']}),\n                                            defaultdict(list,\n                                                        {'label': ['ExG40'],\n                                                         'unit': ['unknown'],\n                                                         'type': ['signal']}),\n                                            defaultdict(list,\n                                                        {'label': ['ExG41'],\n                                                         'unit': ['unknown'],\n                                                         'type': ['signal']}),\n                                            defaultdict(list,\n                                                        {'label': ['ExG42'],\n                                                         'unit': ['unknown'],\n                                                         'type': ['signal']}),\n                                            defaultdict(list,\n                                                        {'label': ['ExG43'],\n                                                         'unit': ['unknown'],\n                                                         'type': ['signal']}),\n                                            defaultdict(list,\n                                                        {'label': ['ExG44'],\n                                                         'unit': ['unknown'],\n                                                         'type': ['signal']}),\n                                            defaultdict(list,\n                                                        {'label': ['ExG45'],\n                                                         'unit': ['unknown'],\n                                                         'type': ['signal']}),\n                                            defaultdict(list,\n                                                        {'label': ['ExG46'],\n                                                         'unit': ['unknown'],\n                                                         'type': ['signal']}),\n                                            defaultdict(list,\n                                                        {'label': ['ExG47'],\n                                                         'unit': ['unknown'],\n                                                         'type': ['signal']}),\n                                            defaultdict(list,\n                                                        {'label': ['ExG48'],\n                                                         'unit': ['unknown'],\n                                                         'type': ['signal']}),\n                                            defaultdict(list,\n                                                        {'label': ['ExG49'],\n                                                         'unit': ['unknown'],\n                                                         'type': ['signal']}),\n                                            defaultdict(list,\n                                                        {'label': ['ExG50'],\n                                                         'unit': ['unknown'],\n                                                         'type': ['signal']}),\n                                            defaultdict(list,\n                                                        {'label': ['ExG51'],\n                                                         'unit': ['unknown'],\n                                                         'type': ['signal']}),\n                                            defaultdict(list,\n                                                        {'label': ['ExG52'],\n                                                         'unit': ['unknown'],\n                                                         'type': ['signal']}),\n                                            defaultdict(list,\n                                                        {'label': ['ExG53'],\n                                                         'unit': ['unknown'],\n                                                         'type': ['signal']}),\n                                            defaultdict(list,\n                                                        {'label': ['ExG54'],\n                                                         'unit': ['unknown'],\n                                                         'type': ['signal']}),\n                                            defaultdict(list,\n                                                        {'label': ['ExG55'],\n                                                         'unit': ['unknown'],\n                                                         'type': ['signal']}),\n                                            defaultdict(list,\n                                                        {'label': ['ExG56'],\n                                                         'unit': ['unknown'],\n                                                         'type': ['signal']}),\n                                            defaultdict(list,\n                                                        {'label': ['ExG57'],\n                                                         'unit': ['unknown'],\n                                                         'type': ['signal']}),\n                                            defaultdict(list,\n                                                        {'label': ['ExG58'],\n                                                         'unit': ['unknown'],\n                                                         'type': ['signal']}),\n                                            defaultdict(list,\n                                                        {'label': ['ExG59'],\n                                                         'unit': ['unknown'],\n                                                         'type': ['signal']}),\n                                            defaultdict(list,\n                                                        {'label': ['ExG60'],\n                                                         'unit': ['unknown'],\n                                                         'type': ['signal']}),\n                                            defaultdict(list,\n                                                        {'label': ['ExG61'],\n                                                         'unit': ['unknown'],\n                                                         'type': ['signal']}),\n                                            defaultdict(list,\n                                                        {'label': ['ExG62'],\n                                                         'unit': ['unknown'],\n                                                         'type': ['signal']}),\n                                            defaultdict(list,\n                                                        {'label': ['ExG63'],\n                                                         'unit': ['unknown'],\n                                                         'type': ['signal']}),\n                                            defaultdict(list,\n                                                        {'label': ['ExG64'],\n                                                         'unit': ['unknown'],\n                                                         'type': ['signal']}),\n                                            defaultdict(list,\n                                                        {'label': ['BIP65'],\n                                                         'unit': ['unknown'],\n                                                         'type': ['signal']}),\n                                            defaultdict(list,\n                                                        {'label': ['BIP66'],\n                                                         'unit': ['unknown'],\n                                                         'type': ['signal']}),\n                                            defaultdict(list,\n                                                        {'label': ['BIP67'],\n                                                         'unit': ['unknown'],\n                                                         'type': ['signal']}),\n                                            defaultdict(list,\n                                                        {'label': ['BIP68'],\n                                                         'unit': ['unknown'],\n                                                         'type': ['signal']}),\n                                            defaultdict(list,\n                                                        {'label': ['AUX69'],\n                                                         'unit': ['unknown'],\n                                                         'type': ['signal']}),\n                                            defaultdict(list,\n                                                        {'label': ['AUX70'],\n                                                         'unit': ['unknown'],\n                                                         'type': ['signal']}),\n                                            defaultdict(list,\n                                                        {'label': ['AUX71'],\n                                                         'unit': ['unknown'],\n                                                         'type': ['signal']}),\n                                            defaultdict(list,\n                                                        {'label': ['AUX72'],\n                                                         'unit': ['unknown'],\n                                                         'type': ['signal']})]})]})],\n               'stream_id': 3,\n               'effective_srate': 1023.9999944368576}),\n  'footer': {'info': defaultdict(list,\n               {'first_timestamp': ['237978.6498002371'],\n                'last_timestamp': ['238213.6488183068'],\n                'sample_count': ['240639'],\n                'clock_offsets': [defaultdict(list,\n                             {'offset': [defaultdict(list,\n                                           {'time': ['237984.4891689'],\n                                            'value': ['-1.199994585476816e-06']}),\n                               defaultdict(list,\n                                           {'time': ['237989.4897624'],\n                                            'value': ['3.499997546896338e-06']}),\n                               defaultdict(list,\n                                           {'time': ['237994.4903854'],\n                                            'value': ['3.600012860260904e-06']}),\n                               defaultdict(list,\n                                           {'time': ['237999.4910675'],\n                                            'value': ['-9.999930625781417e-07']}),\n                               defaultdict(list,\n                                           {'time': ['238004.4916671'],\n                                            'value': ['4.00003045797348e-07']}),\n                               defaultdict(list,\n                                           {'time': ['238009.4922946'],\n                                            'value': ['1.899999915622175e-06']}),\n                               defaultdict(list,\n                                           {'time': ['238014.49291055'],\n                                            'value': ['-1.449996489100158e-06']}),\n                               defaultdict(list,\n                                           {'time': ['238019.49354515'],\n                                            'value': ['-6.500049494206905e-07']}),\n                               defaultdict(list,\n                                           {'time': ['238024.4941731'],\n                                            'value': ['2.299988409504294e-06']}),\n                               defaultdict(list,\n                                           {'time': ['238029.4947858'],\n                                            'value': ['-2.700006007216871e-06']}),\n                               defaultdict(list,\n                                           {'time': ['238034.495378'],\n                                            'value': ['8.999923011288047e-07']}),\n                               defaultdict(list,\n                                           {'time': ['238039.49599755'],\n                                            'value': ['1.150008756667376e-06']}),\n                               defaultdict(list,\n                                           {'time': ['238044.49662015'],\n                                            'value': ['1.04999344330281e-06']}),\n                               defaultdict(list,\n                                           {'time': ['238049.4972892'],\n                                            'value': ['3.399996785447001e-06']}),\n                               defaultdict(list,\n                                           {'time': ['238054.4979011'],\n                                            'value': ['-1.300009898841381e-06']}),\n                               defaultdict(list,\n                                           {'time': ['238059.49852745'],\n                                            'value': ['-3.949986421503127e-06']}),\n                               defaultdict(list,\n                                           {'time': ['238064.4991609'],\n                                            'value': ['-1.00000761449337e-07']}),\n                               defaultdict(list,\n                                           {'time': ['238069.4997448'],\n                                            'value': ['-5.800000508315861e-06']}),\n                               defaultdict(list,\n                                           {'time': ['238074.5003962'],\n                                            'value': ['-5.49999822396785e-06']}),\n                               defaultdict(list,\n                                           {'time': ['238079.50100855'],\n                                            'value': ['4.050001734867692e-06']}),\n                               defaultdict(list,\n                                           {'time': ['238084.50163815'],\n                                            'value': ['-3.049994120374322e-06']}),\n                               defaultdict(list,\n                                           {'time': ['238089.5022697'],\n                                            'value': ['3.299996023997664e-06']}),\n                               defaultdict(list,\n                                           {'time': ['238094.50285965'],\n                                            'value': ['-4.350004019215703e-06']}),\n                               defaultdict(list,\n                                           {'time': ['238099.50351085'],\n                                            'value': ['3.649998689070344e-06']}),\n                               defaultdict(list,\n                                           {'time': ['238104.50410235'],\n                                            'value': ['3.049994120374322e-06']}),\n                               defaultdict(list,\n                                           {'time': ['238109.50473125'],\n                                            'value': ['-3.649998689070344e-06']}),\n                               defaultdict(list,\n                                           {'time': ['238114.5053978'],\n                                            'value': ['-2.00001522898674e-07']}),\n                               defaultdict(list,\n                                           {'time': ['238119.50600125'],\n                                            'value': ['1.849999534897506e-06']}),\n                               defaultdict(list,\n                                           {'time': ['238124.5066344'],\n                                            'value': ['-4.600005922839046e-06']}),\n                               defaultdict(list,\n                                           {'time': ['238129.5072247'],\n                                            'value': ['-5.700014298781753e-06']}),\n                               defaultdict(list,\n                                           {'time': ['238134.5078458'],\n                                            'value': ['-1.799999154172838e-06']}),\n                               defaultdict(list,\n                                           {'time': ['238139.5085134'],\n                                            'value': ['-4.399989848025143e-06']}),\n                               defaultdict(list,\n                                           {'time': ['238144.50913515'],\n                                            'value': ['-5.049994797445834e-06']}),\n                               defaultdict(list,\n                                           {'time': ['238149.5097098'],\n                                            'value': ['1.499996869824827e-06']}),\n                               defaultdict(list,\n                                           {'time': ['238154.5103848'],\n                                            'value': ['-9.000068530440331e-07']}),\n                               defaultdict(list,\n                                           {'time': ['238159.51099825'],\n                                            'value': ['-5.500041879713535e-07']}),\n                               defaultdict(list,\n                                           {'time': ['238164.51161845'],\n                                            'value': ['-3.350010956637561e-06']}),\n                               defaultdict(list,\n                                           {'time': ['238169.5122483'],\n                                            'value': ['2.599990693852305e-06']}),\n                               defaultdict(list,\n                                           {'time': ['238174.5128775'],\n                                            'value': ['-0']}),\n                               defaultdict(list,\n                                           {'time': ['238179.51345505'],\n                                            'value': ['-8.500064723193645e-07']}),\n                               defaultdict(list,\n                                           {'time': ['238184.51412095'],\n                                            'value': ['2.750006387941539e-06']}),\n                               defaultdict(list,\n                                           {'time': ['238189.51472825'],\n                                            'value': ['3.049994120374322e-06']}),\n                               defaultdict(list,\n                                           {'time': ['238194.51534985'],\n                                            'value': ['6.849993951618671e-06']}),\n                               defaultdict(list,\n                                           {'time': ['238199.5159846'],\n                                            'value': ['-5.900001269765198e-06']}),\n                               defaultdict(list,\n                                           {'time': ['238204.51657075'],\n                                            'value': ['-2.500019036233425e-07']}),\n                               defaultdict(list,\n                                           {'time': ['238209.517219'],\n                                            'value': ['3.600012860260904e-06']}),\n                               defaultdict(list,\n                                           {'time': ['238214.5178493'],\n                                            'value': ['-3.599998308345675e-06']})]})]})},\n  'time_series': array([[0., 0., 0., ..., 0., 0., 0.],\n         [0., 0., 0., ..., 0., 0., 0.],\n         [0., 0., 0., ..., 0., 0., 0.],\n         ...,\n         [0., 0., 0., ..., 0., 0., 0.],\n         [0., 0., 0., ..., 0., 0., 0.],\n         [0., 0., 0., ..., 0., 0., 0.]], dtype=float32),\n  'time_stamps': array([237978.64990237, 237978.65087893, 237978.65185549, ...,\n         238213.64697396, 238213.64795052, 238213.64892708])}]"
     },
     "metadata": {},
     "output_type": "display_data"
    }
   ],
   "source": [
    "# load data\n",
    "streams, _ = pyxdf.load_xdf(f\"data/{recordings[0]['file']}\")\n",
    "display(streams)"
   ],
   "metadata": {
    "collapsed": false
   }
  },
  {
   "cell_type": "markdown",
   "source": [
    "### Accessing streams\n",
    "Once we load the streams, we can access each list in the dictionary by indicating for example the component we want to access such as stream (an index), 'info', time_stamps or time_series, etc.\n",
    "\n",
    "For specific information:\n",
    "- streams[2]['info']['name']\n",
    "\n",
    "For a particular stream component:\n",
    "- streams[2]['time_stamps']\n",
    "\n",
    "For a specific eeg channel\n",
    "- streams[2][\"time_series\"][:,64]"
   ],
   "metadata": {
    "collapsed": false
   }
  },
  {
   "cell_type": "code",
   "execution_count": 162,
   "outputs": [
    {
     "data": {
      "text/plain": "array([241076.51462992, 241076.51560648, 241076.51658304, ...,\n       241805.01170612, 241805.01268268, 241805.01365924])"
     },
     "execution_count": 162,
     "metadata": {},
     "output_type": "execute_result"
    }
   ],
   "source": [
    "# access the second stream's time_stamps\n",
    "streams[2]['time_stamps']"
   ],
   "metadata": {
    "collapsed": false
   }
  },
  {
   "cell_type": "code",
   "execution_count": 159,
   "outputs": [
    {
     "data": {
      "text/plain": "{'openvibeMarkers': 0, 'Visual': 1, 'openvibeSignal': 2}"
     },
     "execution_count": 159,
     "metadata": {},
     "output_type": "execute_result"
    }
   ],
   "source": [
    "# print all stream names and index in stream list\n",
    "s_names = {streams[i][\"info\"][\"name\"][0]: i for i in range(len(streams))}\n",
    "s_names"
   ],
   "metadata": {
    "collapsed": false
   }
  },
  {
   "cell_type": "markdown",
   "source": [
    "### Task 3:\n",
    "Define a function that given the .xdf streams, it returns the relevant streams _Visual_ and _openvibeSignal_"
   ],
   "metadata": {
    "collapsed": false
   }
  },
  {
   "cell_type": "code",
   "execution_count": 68,
   "outputs": [],
   "source": [
    "# define a function to select Visual and openvibeSignal from streams\n",
    "def select_streams(streams):\n",
    "    # stream names\n",
    "    u_ch_name = \"Visual\"\n",
    "    e_ch_name = \"openvibeSignal\"\n",
    "\n",
    "    # get all current streams with their positions on the recording\n",
    "    # example: {'Diode': 0, 'Audio': 1, 'openvibeSignal': 2}\n",
    "    s_names = {streams[i][\"info\"][\"name\"][0]: i for i in range(len(streams))}\n",
    "\n",
    "    # store and return their positions\n",
    "    u = s_names[u_ch_name]  # unity stream channel\n",
    "    e = s_names[e_ch_name]  # eeg stream channel (photodiode)\n",
    "    return u, e"
   ],
   "metadata": {
    "collapsed": false
   }
  },
  {
   "cell_type": "code",
   "execution_count": 164,
   "outputs": [],
   "source": [
    "# extract streams info for all files\n",
    "overview_df = pd.DataFrame()\n",
    "\n",
    "for r in recordings:\n",
    "    # current filename\n",
    "    file = recordings[r][\"file\"]\n",
    "    # load data\n",
    "    streams, _ = pyxdf.load_xdf(f\"data/{file}\")\n",
    "    # select stream channels\n",
    "    u_ch, e_ch = select_streams(streams)\n",
    "    # computer host name\n",
    "    u_host = streams[u_ch][\"info\"][\"hostname\"]\n",
    "    e_host = streams[e_ch][\"info\"][\"hostname\"]\n",
    "\n",
    "    # select timestamps for each stream\n",
    "    u_ts = streams[u_ch][\"time_stamps\"]\n",
    "    e_ts = streams[e_ch][\"time_stamps\"]\n",
    "\n",
    "    # Data from streams\n",
    "    u_data = streams[u_ch][\"time_series\"][:,1]\n",
    "    # eeg only channel 64 where the diode was connected\n",
    "    e_data = streams[e_ch][\"time_series\"][:,64]\n",
    "\n",
    "    # calculate Unity - eeg  time difference at start of recording\n",
    "    # in milliseconds\n",
    "    diff_ts = (u_ts[0] - e_ts[0]) * 1000\n",
    "\n",
    "    # calculate recoding duration\n",
    "    unity_duration =  (u_ts[-1] - u_ts[0]) / 60\n",
    "    eeg_duration =  (e_ts[-1] - e_ts[0]) / 60\n",
    "\n",
    "    # calculate sampling rate (FPS)\n",
    "    unity_sr = 1 / (unity_duration * 60 / len(u_ts))\n",
    "    eeg_sr = 1 / (eeg_duration * 60 / len(e_ts))\n",
    "\n",
    "    overview_df = overview_df.append({\"file_name\":file,\n",
    "                          \"u_duration\":unity_duration,\n",
    "                          \"eeg_duration\":eeg_duration,\n",
    "                          \"u_fps\":unity_sr,\n",
    "                          \"eeg_fps\":eeg_sr,\n",
    "                          \"u_host\":u_host,\"eeg_host\":e_host},ignore_index=True)"
   ],
   "metadata": {
    "collapsed": false
   }
  },
  {
   "cell_type": "code",
   "execution_count": 165,
   "outputs": [
    {
     "data": {
      "text/plain": "                          0              1              2\nfile_name     lsl_test1.xdf  lsl_test2.xdf  lsl_test3.xdf\nu_duration         3.916573       7.316522      12.141584\neeg_duration        3.91665        7.31665       12.14165\nu_fps             90.006411      90.001775      90.001986\neeg_fps          1024.00425    1024.002292    1024.001364\nu_host               [ml03]         [ml03]         [ml03]\neeg_host          [wd-left]      [wd-left]      [wd-left]",
      "text/html": "<div>\n<style scoped>\n    .dataframe tbody tr th:only-of-type {\n        vertical-align: middle;\n    }\n\n    .dataframe tbody tr th {\n        vertical-align: top;\n    }\n\n    .dataframe thead th {\n        text-align: right;\n    }\n</style>\n<table border=\"1\" class=\"dataframe\">\n  <thead>\n    <tr style=\"text-align: right;\">\n      <th></th>\n      <th>0</th>\n      <th>1</th>\n      <th>2</th>\n    </tr>\n  </thead>\n  <tbody>\n    <tr>\n      <th>file_name</th>\n      <td>lsl_test1.xdf</td>\n      <td>lsl_test2.xdf</td>\n      <td>lsl_test3.xdf</td>\n    </tr>\n    <tr>\n      <th>u_duration</th>\n      <td>3.916573</td>\n      <td>7.316522</td>\n      <td>12.141584</td>\n    </tr>\n    <tr>\n      <th>eeg_duration</th>\n      <td>3.91665</td>\n      <td>7.31665</td>\n      <td>12.14165</td>\n    </tr>\n    <tr>\n      <th>u_fps</th>\n      <td>90.006411</td>\n      <td>90.001775</td>\n      <td>90.001986</td>\n    </tr>\n    <tr>\n      <th>eeg_fps</th>\n      <td>1024.00425</td>\n      <td>1024.002292</td>\n      <td>1024.001364</td>\n    </tr>\n    <tr>\n      <th>u_host</th>\n      <td>[ml03]</td>\n      <td>[ml03]</td>\n      <td>[ml03]</td>\n    </tr>\n    <tr>\n      <th>eeg_host</th>\n      <td>[wd-left]</td>\n      <td>[wd-left]</td>\n      <td>[wd-left]</td>\n    </tr>\n  </tbody>\n</table>\n</div>"
     },
     "execution_count": 165,
     "metadata": {},
     "output_type": "execute_result"
    }
   ],
   "source": [
    "overview_df.T"
   ],
   "metadata": {
    "collapsed": false
   }
  },
  {
   "cell_type": "code",
   "execution_count": null,
   "outputs": [],
   "source": [],
   "metadata": {
    "collapsed": false
   }
  }
 ],
 "metadata": {
  "celltoolbar": "Slideshow",
  "kernelspec": {
   "display_name": "Python 3",
   "language": "python",
   "name": "python3"
  },
  "language_info": {
   "codemirror_mode": {
    "name": "ipython",
    "version": 3
   },
   "file_extension": ".py",
   "mimetype": "text/x-python",
   "name": "python",
   "nbconvert_exporter": "python",
   "pygments_lexer": "ipython3",
   "version": "3.8.10"
  }
 },
 "nbformat": 4,
 "nbformat_minor": 1
}
