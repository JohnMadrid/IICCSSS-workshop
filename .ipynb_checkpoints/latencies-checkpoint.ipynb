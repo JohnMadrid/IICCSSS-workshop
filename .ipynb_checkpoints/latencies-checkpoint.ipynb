{
 "cells": [
  {
   "cell_type": "markdown",
   "metadata": {
    "slideshow": {
     "slide_type": "slide"
    }
   },
   "source": [
    "<img src=\"logos/‎cover‎001.png\" alt=\"Drawing\"/>"
   ]
  },
  {
   "cell_type": "markdown",
   "metadata": {
    "slideshow": {
     "slide_type": "slide"
    }
   },
   "source": [
    "<img src=\"logos/‎redbar001.png\" alt=\"Drawing\"/>\n",
    "\n",
    "# **Overview**\n",
    "1. Ecological validity and VR\n",
    "2. EEG and VR setup\n",
    "3. Applications\n",
    "4. Latency tests\n",
    "5. ERP stimulus onsets"
   ]
  },
  {
   "cell_type": "markdown",
   "metadata": {
    "slideshow": {
     "slide_type": "slide"
    }
   },
   "source": [
    "<img src=\"logos/‎redbar001.png\" alt=\"Drawing\"/>\n",
    "\n",
    "## 1. Ecological validity and VR\n",
    "### **EV**:\n",
    "<img style=\"float: right;\" alt=\"eeg\" src=\"logos/eeg-classic.jpeg\" title=\"Fig. 1 - Classic EEG setup\" width=\"200\"/><br>\n",
    "\n",
    "<ul>\n",
    "  <li> How well classical paradigms <strong>generalize</strong> to the real-world<br>\n",
    "(Nastase et al., 2020; Voelkl et al., 2020)</li>\n",
    "  <li> Fail to generalize may lead to <strong>misconceptions</strong><br>\n",
    "(Kingstone et al. 2003)</li>\n",
    "</ul>\n",
    "</p>"
   ]
  },
  {
   "cell_type": "markdown",
   "metadata": {
    "slideshow": {
     "slide_type": "fragment"
    }
   },
   "source": [
    "<ul>\n",
    "  <li>Reevaluate conventional methods and develop experiments<br>\n",
    "  resembling real-world conditions.</li>\n",
    "  <li>Real-world neuroscience is a difficult task and <br>\n",
    "  most methods are unsuitable.</li>\n",
    "  <li><strong>Note:</strong> the setup should capture important variables, <br>\n",
    "  no recreate real life (Schmuckler, 2001; Chang et al., 2022).</li>\n",
    "</ul>"
   ]
  },
  {
   "cell_type": "markdown",
   "metadata": {
    "slideshow": {
     "slide_type": "slide"
    }
   },
   "source": [
    "<img src=\"logos/‎redbar001.png\"/>\n",
    "\n",
    "# 1. Ecological validity and VR\n",
    "## **VR**:\n",
    "- _\"Synthetic sensory information that leads to perceptions of environments and their contents as if they were not synthetic.\"_ Blascovich et al. (2002, p. 105)\n",
    "- Simulated environments are perceptual and auditory and can allow for movement and action\n",
    "- _“computer-generated world”_ (Pan and Hamilton, 2018)\n",
    "#### Advantages:\n",
    "- Create highly realistic, tailored environments\n",
    "- Gather user's behavioral data (e.g., head, eye, body)\n",
    "- Reliability of experimental control"
   ]
  },
  {
   "cell_type": "markdown",
   "metadata": {
    "slideshow": {
     "slide_type": "subslide"
    }
   },
   "source": [
    "<img style=\"float: right;\" src=\"logos/‎eegVR.png\" width=\"250\">"
   ]
  },
  {
   "cell_type": "code",
   "execution_count": null,
   "metadata": {},
   "outputs": [],
   "source": []
  }
 ],
 "metadata": {
  "celltoolbar": "Slideshow",
  "kernelspec": {
   "display_name": "Python 3",
   "language": "python",
   "name": "python3"
  },
  "language_info": {
   "codemirror_mode": {
    "name": "ipython",
    "version": 3
   },
   "file_extension": ".py",
   "mimetype": "text/x-python",
   "name": "python",
   "nbconvert_exporter": "python",
   "pygments_lexer": "ipython3",
   "version": "3.8.10"
  }
 },
 "nbformat": 4,
 "nbformat_minor": 1
}
