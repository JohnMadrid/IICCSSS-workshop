{
 "cells": [
  {
   "cell_type": "markdown",
   "metadata": {
    "slideshow": {
     "slide_type": "slide"
    }
   },
   "source": [
    "<img src=\"logos/‎cover‎001.png\" alt=\"Drawing\"/>"
   ]
  },
  {
   "cell_type": "code",
   "execution_count": 48,
   "metadata": {
    "slideshow": {
     "slide_type": "skip"
    }
   },
   "outputs": [],
   "source": [
    "# %load_ext ipython_unittest\n",
    "# imports\n",
    "import pandas as pd\n",
    "import unittest"
   ]
  },
  {
   "cell_type": "markdown",
   "metadata": {
    "slideshow": {
     "slide_type": "slide"
    }
   },
   "source": [
    "# Identifying stimulus onsets\n",
    "\n",
    "After testing the devices' latencies, we concluded that latencies are constant and devices are synchronized. Now, we did the actual experiment with a participant.\n",
    "\n",
    "<strong>Situation:</strong> Participant sat on a chair inside a virtual room and performed a visual task looking at some images. Simultaneously, we collected brain and eye-tracking data. We saved the following streams:\n",
    "\n",
    "| <strong>Device</strong> | <strong>Stream</strong> | <strong>Content</strong>                                                                                       |\n",
    "|-------------------------| --- |----------------------------------------------------------------------------------------------------------------|\n",
    "| EEG                     | 64 channels | brain signal                                                                                                   |\n",
    "| Unity                   | _ImageInfo_ | _blockNumber_ (0-3), _imageName_ (face, body, object or 'fixation', 'grayCanvas' when not displaying an image) |\n",
    "| Unity                   | _Visual_| _displayStatus_ (0 for images, 1 for fixation, 2 for canvas, and -1  for start of experiment)                  |\n",
    "\n",
    "Lab Streaming Layer <strong>(LSL)</strong> was used to store and synchronize the streams timestamps ( _time_stamps_ )"
   ]
  },
  {
   "cell_type": "markdown",
   "metadata": {
    "slideshow": {
     "slide_type": "slide"
    }
   },
   "source": [
    "## 1. Load Data"
   ]
  },
  {
   "cell_type": "code",
   "execution_count": 49,
   "metadata": {
    "slideshow": {
     "slide_type": "fragment"
    }
   },
   "outputs": [
    {
     "data": {
      "text/html": [
       "<div>\n",
       "<style scoped>\n",
       "    .dataframe tbody tr th:only-of-type {\n",
       "        vertical-align: middle;\n",
       "    }\n",
       "\n",
       "    .dataframe tbody tr th {\n",
       "        vertical-align: top;\n",
       "    }\n",
       "\n",
       "    .dataframe thead th {\n",
       "        text-align: right;\n",
       "    }\n",
       "</style>\n",
       "<table border=\"1\" class=\"dataframe\">\n",
       "  <thead>\n",
       "    <tr style=\"text-align: right;\">\n",
       "      <th></th>\n",
       "      <th>uid</th>\n",
       "      <th>blockNumber_ImageInfo</th>\n",
       "      <th>imageName_ImageInfo</th>\n",
       "      <th>time_stamps_ImageInfo</th>\n",
       "      <th>corrected_tstamps_ImageInfo</th>\n",
       "      <th>normalized_tstamps_ImageInfo</th>\n",
       "      <th>cFrame_Visual</th>\n",
       "      <th>displayStatus_Visual</th>\n",
       "      <th>worldTime_Visual</th>\n",
       "      <th>time_stamps_Visual</th>\n",
       "      <th>...</th>\n",
       "      <th>normalized_tstamps_EyeTrackingWorld</th>\n",
       "      <th>ETLoriginX_EyeTrackingLocal</th>\n",
       "      <th>ETLoriginY_EyeTrackingLocal</th>\n",
       "      <th>ETLoriginZ_EyeTrackingLocal</th>\n",
       "      <th>ETLdirectionX_EyeTrackingLocal</th>\n",
       "      <th>ETLdirectionY_EyeTrackingLocal</th>\n",
       "      <th>ETLdirectionZ_EyeTrackingLocal</th>\n",
       "      <th>time_stamps_EyeTrackingLocal</th>\n",
       "      <th>corrected_tstamps_EyeTrackingLocal</th>\n",
       "      <th>normalized_tstamps_EyeTrackingLocal</th>\n",
       "    </tr>\n",
       "  </thead>\n",
       "  <tbody>\n",
       "    <tr>\n",
       "      <th>0</th>\n",
       "      <td>1</td>\n",
       "      <td>0</td>\n",
       "      <td>startMessage</td>\n",
       "      <td>532358.0120</td>\n",
       "      <td>532358.0120</td>\n",
       "      <td>0.257938</td>\n",
       "      <td>6713</td>\n",
       "      <td>-1</td>\n",
       "      <td>116.86852</td>\n",
       "      <td>532358.0120</td>\n",
       "      <td>...</td>\n",
       "      <td>NaN</td>\n",
       "      <td>NaN</td>\n",
       "      <td>NaN</td>\n",
       "      <td>NaN</td>\n",
       "      <td>NaN</td>\n",
       "      <td>NaN</td>\n",
       "      <td>NaN</td>\n",
       "      <td>NaN</td>\n",
       "      <td>NaN</td>\n",
       "      <td>NaN</td>\n",
       "    </tr>\n",
       "    <tr>\n",
       "      <th>1</th>\n",
       "      <td>1</td>\n",
       "      <td>0</td>\n",
       "      <td>startMessage</td>\n",
       "      <td>532358.0229</td>\n",
       "      <td>532358.0229</td>\n",
       "      <td>0.268885</td>\n",
       "      <td>6714</td>\n",
       "      <td>-1</td>\n",
       "      <td>116.87947</td>\n",
       "      <td>532358.0229</td>\n",
       "      <td>...</td>\n",
       "      <td>NaN</td>\n",
       "      <td>NaN</td>\n",
       "      <td>NaN</td>\n",
       "      <td>NaN</td>\n",
       "      <td>NaN</td>\n",
       "      <td>NaN</td>\n",
       "      <td>NaN</td>\n",
       "      <td>NaN</td>\n",
       "      <td>NaN</td>\n",
       "      <td>NaN</td>\n",
       "    </tr>\n",
       "    <tr>\n",
       "      <th>2</th>\n",
       "      <td>1</td>\n",
       "      <td>0</td>\n",
       "      <td>startMessage</td>\n",
       "      <td>532358.0341</td>\n",
       "      <td>532358.0341</td>\n",
       "      <td>0.280011</td>\n",
       "      <td>6715</td>\n",
       "      <td>-1</td>\n",
       "      <td>116.89059</td>\n",
       "      <td>532358.0341</td>\n",
       "      <td>...</td>\n",
       "      <td>NaN</td>\n",
       "      <td>NaN</td>\n",
       "      <td>NaN</td>\n",
       "      <td>NaN</td>\n",
       "      <td>NaN</td>\n",
       "      <td>NaN</td>\n",
       "      <td>NaN</td>\n",
       "      <td>NaN</td>\n",
       "      <td>NaN</td>\n",
       "      <td>NaN</td>\n",
       "    </tr>\n",
       "    <tr>\n",
       "      <th>3</th>\n",
       "      <td>1</td>\n",
       "      <td>0</td>\n",
       "      <td>startMessage</td>\n",
       "      <td>532358.0452</td>\n",
       "      <td>532358.0452</td>\n",
       "      <td>0.291130</td>\n",
       "      <td>6716</td>\n",
       "      <td>-1</td>\n",
       "      <td>116.90169</td>\n",
       "      <td>532358.0452</td>\n",
       "      <td>...</td>\n",
       "      <td>NaN</td>\n",
       "      <td>NaN</td>\n",
       "      <td>NaN</td>\n",
       "      <td>NaN</td>\n",
       "      <td>NaN</td>\n",
       "      <td>NaN</td>\n",
       "      <td>NaN</td>\n",
       "      <td>NaN</td>\n",
       "      <td>NaN</td>\n",
       "      <td>NaN</td>\n",
       "    </tr>\n",
       "    <tr>\n",
       "      <th>4</th>\n",
       "      <td>1</td>\n",
       "      <td>0</td>\n",
       "      <td>startMessage</td>\n",
       "      <td>532358.0563</td>\n",
       "      <td>532358.0563</td>\n",
       "      <td>0.302254</td>\n",
       "      <td>6717</td>\n",
       "      <td>-1</td>\n",
       "      <td>116.91281</td>\n",
       "      <td>532358.0563</td>\n",
       "      <td>...</td>\n",
       "      <td>NaN</td>\n",
       "      <td>NaN</td>\n",
       "      <td>NaN</td>\n",
       "      <td>NaN</td>\n",
       "      <td>NaN</td>\n",
       "      <td>NaN</td>\n",
       "      <td>NaN</td>\n",
       "      <td>NaN</td>\n",
       "      <td>NaN</td>\n",
       "      <td>NaN</td>\n",
       "    </tr>\n",
       "    <tr>\n",
       "      <th>...</th>\n",
       "      <td>...</td>\n",
       "      <td>...</td>\n",
       "      <td>...</td>\n",
       "      <td>...</td>\n",
       "      <td>...</td>\n",
       "      <td>...</td>\n",
       "      <td>...</td>\n",
       "      <td>...</td>\n",
       "      <td>...</td>\n",
       "      <td>...</td>\n",
       "      <td>...</td>\n",
       "      <td>...</td>\n",
       "      <td>...</td>\n",
       "      <td>...</td>\n",
       "      <td>...</td>\n",
       "      <td>...</td>\n",
       "      <td>...</td>\n",
       "      <td>...</td>\n",
       "      <td>...</td>\n",
       "      <td>...</td>\n",
       "      <td>...</td>\n",
       "    </tr>\n",
       "    <tr>\n",
       "      <th>337005</th>\n",
       "      <td>1</td>\n",
       "      <td>3</td>\n",
       "      <td>endMessage</td>\n",
       "      <td>536239.2642</td>\n",
       "      <td>536241.6461</td>\n",
       "      <td>3883.892064</td>\n",
       "      <td>343751</td>\n",
       "      <td>99</td>\n",
       "      <td>3998.12800</td>\n",
       "      <td>536239.2642</td>\n",
       "      <td>...</td>\n",
       "      <td>NaN</td>\n",
       "      <td>NaN</td>\n",
       "      <td>NaN</td>\n",
       "      <td>NaN</td>\n",
       "      <td>NaN</td>\n",
       "      <td>NaN</td>\n",
       "      <td>NaN</td>\n",
       "      <td>NaN</td>\n",
       "      <td>NaN</td>\n",
       "      <td>NaN</td>\n",
       "    </tr>\n",
       "    <tr>\n",
       "      <th>337006</th>\n",
       "      <td>1</td>\n",
       "      <td>3</td>\n",
       "      <td>endMessage</td>\n",
       "      <td>536239.2753</td>\n",
       "      <td>536241.6572</td>\n",
       "      <td>3883.903141</td>\n",
       "      <td>343752</td>\n",
       "      <td>99</td>\n",
       "      <td>3998.13900</td>\n",
       "      <td>536239.2753</td>\n",
       "      <td>...</td>\n",
       "      <td>NaN</td>\n",
       "      <td>NaN</td>\n",
       "      <td>NaN</td>\n",
       "      <td>NaN</td>\n",
       "      <td>NaN</td>\n",
       "      <td>NaN</td>\n",
       "      <td>NaN</td>\n",
       "      <td>NaN</td>\n",
       "      <td>NaN</td>\n",
       "      <td>NaN</td>\n",
       "    </tr>\n",
       "    <tr>\n",
       "      <th>337007</th>\n",
       "      <td>1</td>\n",
       "      <td>3</td>\n",
       "      <td>endMessage</td>\n",
       "      <td>536239.2866</td>\n",
       "      <td>536241.6686</td>\n",
       "      <td>3883.914500</td>\n",
       "      <td>343753</td>\n",
       "      <td>99</td>\n",
       "      <td>3998.15040</td>\n",
       "      <td>536239.2866</td>\n",
       "      <td>...</td>\n",
       "      <td>NaN</td>\n",
       "      <td>NaN</td>\n",
       "      <td>NaN</td>\n",
       "      <td>NaN</td>\n",
       "      <td>NaN</td>\n",
       "      <td>NaN</td>\n",
       "      <td>NaN</td>\n",
       "      <td>NaN</td>\n",
       "      <td>NaN</td>\n",
       "      <td>NaN</td>\n",
       "    </tr>\n",
       "    <tr>\n",
       "      <th>337008</th>\n",
       "      <td>1</td>\n",
       "      <td>3</td>\n",
       "      <td>endMessage</td>\n",
       "      <td>536239.2975</td>\n",
       "      <td>536241.6795</td>\n",
       "      <td>3883.925402</td>\n",
       "      <td>343754</td>\n",
       "      <td>99</td>\n",
       "      <td>3998.16140</td>\n",
       "      <td>536239.2975</td>\n",
       "      <td>...</td>\n",
       "      <td>NaN</td>\n",
       "      <td>NaN</td>\n",
       "      <td>NaN</td>\n",
       "      <td>NaN</td>\n",
       "      <td>NaN</td>\n",
       "      <td>NaN</td>\n",
       "      <td>NaN</td>\n",
       "      <td>NaN</td>\n",
       "      <td>NaN</td>\n",
       "      <td>NaN</td>\n",
       "    </tr>\n",
       "    <tr>\n",
       "      <th>337009</th>\n",
       "      <td>1</td>\n",
       "      <td>3</td>\n",
       "      <td>endMessage</td>\n",
       "      <td>536239.3086</td>\n",
       "      <td>536241.6906</td>\n",
       "      <td>3883.936525</td>\n",
       "      <td>343755</td>\n",
       "      <td>99</td>\n",
       "      <td>3998.17240</td>\n",
       "      <td>536239.3086</td>\n",
       "      <td>...</td>\n",
       "      <td>NaN</td>\n",
       "      <td>NaN</td>\n",
       "      <td>NaN</td>\n",
       "      <td>NaN</td>\n",
       "      <td>NaN</td>\n",
       "      <td>NaN</td>\n",
       "      <td>NaN</td>\n",
       "      <td>NaN</td>\n",
       "      <td>NaN</td>\n",
       "      <td>NaN</td>\n",
       "    </tr>\n",
       "  </tbody>\n",
       "</table>\n",
       "<p>337010 rows × 55 columns</p>\n",
       "</div>"
      ],
      "text/plain": [
       "        uid  blockNumber_ImageInfo imageName_ImageInfo  time_stamps_ImageInfo  \\\n",
       "0         1                      0        startMessage            532358.0120   \n",
       "1         1                      0        startMessage            532358.0229   \n",
       "2         1                      0        startMessage            532358.0341   \n",
       "3         1                      0        startMessage            532358.0452   \n",
       "4         1                      0        startMessage            532358.0563   \n",
       "...     ...                    ...                 ...                    ...   \n",
       "337005    1                      3          endMessage            536239.2642   \n",
       "337006    1                      3          endMessage            536239.2753   \n",
       "337007    1                      3          endMessage            536239.2866   \n",
       "337008    1                      3          endMessage            536239.2975   \n",
       "337009    1                      3          endMessage            536239.3086   \n",
       "\n",
       "        corrected_tstamps_ImageInfo  normalized_tstamps_ImageInfo  \\\n",
       "0                       532358.0120                      0.257938   \n",
       "1                       532358.0229                      0.268885   \n",
       "2                       532358.0341                      0.280011   \n",
       "3                       532358.0452                      0.291130   \n",
       "4                       532358.0563                      0.302254   \n",
       "...                             ...                           ...   \n",
       "337005                  536241.6461                   3883.892064   \n",
       "337006                  536241.6572                   3883.903141   \n",
       "337007                  536241.6686                   3883.914500   \n",
       "337008                  536241.6795                   3883.925402   \n",
       "337009                  536241.6906                   3883.936525   \n",
       "\n",
       "        cFrame_Visual  displayStatus_Visual  worldTime_Visual  \\\n",
       "0                6713                    -1         116.86852   \n",
       "1                6714                    -1         116.87947   \n",
       "2                6715                    -1         116.89059   \n",
       "3                6716                    -1         116.90169   \n",
       "4                6717                    -1         116.91281   \n",
       "...               ...                   ...               ...   \n",
       "337005         343751                    99        3998.12800   \n",
       "337006         343752                    99        3998.13900   \n",
       "337007         343753                    99        3998.15040   \n",
       "337008         343754                    99        3998.16140   \n",
       "337009         343755                    99        3998.17240   \n",
       "\n",
       "        time_stamps_Visual  ...  normalized_tstamps_EyeTrackingWorld  \\\n",
       "0              532358.0120  ...                                  NaN   \n",
       "1              532358.0229  ...                                  NaN   \n",
       "2              532358.0341  ...                                  NaN   \n",
       "3              532358.0452  ...                                  NaN   \n",
       "4              532358.0563  ...                                  NaN   \n",
       "...                    ...  ...                                  ...   \n",
       "337005         536239.2642  ...                                  NaN   \n",
       "337006         536239.2753  ...                                  NaN   \n",
       "337007         536239.2866  ...                                  NaN   \n",
       "337008         536239.2975  ...                                  NaN   \n",
       "337009         536239.3086  ...                                  NaN   \n",
       "\n",
       "        ETLoriginX_EyeTrackingLocal ETLoriginY_EyeTrackingLocal  \\\n",
       "0                               NaN                         NaN   \n",
       "1                               NaN                         NaN   \n",
       "2                               NaN                         NaN   \n",
       "3                               NaN                         NaN   \n",
       "4                               NaN                         NaN   \n",
       "...                             ...                         ...   \n",
       "337005                          NaN                         NaN   \n",
       "337006                          NaN                         NaN   \n",
       "337007                          NaN                         NaN   \n",
       "337008                          NaN                         NaN   \n",
       "337009                          NaN                         NaN   \n",
       "\n",
       "        ETLoriginZ_EyeTrackingLocal ETLdirectionX_EyeTrackingLocal  \\\n",
       "0                               NaN                            NaN   \n",
       "1                               NaN                            NaN   \n",
       "2                               NaN                            NaN   \n",
       "3                               NaN                            NaN   \n",
       "4                               NaN                            NaN   \n",
       "...                             ...                            ...   \n",
       "337005                          NaN                            NaN   \n",
       "337006                          NaN                            NaN   \n",
       "337007                          NaN                            NaN   \n",
       "337008                          NaN                            NaN   \n",
       "337009                          NaN                            NaN   \n",
       "\n",
       "        ETLdirectionY_EyeTrackingLocal  ETLdirectionZ_EyeTrackingLocal  \\\n",
       "0                                  NaN                             NaN   \n",
       "1                                  NaN                             NaN   \n",
       "2                                  NaN                             NaN   \n",
       "3                                  NaN                             NaN   \n",
       "4                                  NaN                             NaN   \n",
       "...                                ...                             ...   \n",
       "337005                             NaN                             NaN   \n",
       "337006                             NaN                             NaN   \n",
       "337007                             NaN                             NaN   \n",
       "337008                             NaN                             NaN   \n",
       "337009                             NaN                             NaN   \n",
       "\n",
       "        time_stamps_EyeTrackingLocal  corrected_tstamps_EyeTrackingLocal  \\\n",
       "0                                NaN                                 NaN   \n",
       "1                                NaN                                 NaN   \n",
       "2                                NaN                                 NaN   \n",
       "3                                NaN                                 NaN   \n",
       "4                                NaN                                 NaN   \n",
       "...                              ...                                 ...   \n",
       "337005                           NaN                                 NaN   \n",
       "337006                           NaN                                 NaN   \n",
       "337007                           NaN                                 NaN   \n",
       "337008                           NaN                                 NaN   \n",
       "337009                           NaN                                 NaN   \n",
       "\n",
       "        normalized_tstamps_EyeTrackingLocal  \n",
       "0                                       NaN  \n",
       "1                                       NaN  \n",
       "2                                       NaN  \n",
       "3                                       NaN  \n",
       "4                                       NaN  \n",
       "...                                     ...  \n",
       "337005                                  NaN  \n",
       "337006                                  NaN  \n",
       "337007                                  NaN  \n",
       "337008                                  NaN  \n",
       "337009                                  NaN  \n",
       "\n",
       "[337010 rows x 55 columns]"
      ]
     },
     "execution_count": 49,
     "metadata": {},
     "output_type": "execute_result"
    }
   ],
   "source": [
    "# load csv as dataframe\n",
    "df = pd.read_csv(\"data-onsets/all_streams_ab6397.csv\", low_memory=False)\n",
    "df"
   ]
  },
  {
   "cell_type": "code",
   "execution_count": 50,
   "metadata": {
    "slideshow": {
     "slide_type": "slide"
    }
   },
   "outputs": [
    {
     "data": {
      "text/plain": [
       "array(['startMessage', 'grayCanvas', 'fixationCross',\n",
       "       'img.1600x1000.date.2022-07-07_19-36-43.hitname.face_4208.rotation.54.distance.3.frame.45567'],\n",
       "      dtype=object)"
      ]
     },
     "execution_count": 50,
     "metadata": {},
     "output_type": "execute_result"
    }
   ],
   "source": [
    "# inspect the unique values in imageName\n",
    "df['imageName_ImageInfo'].head(1000).unique()\n",
    "# the images names contain other relevant metadata such as:\n",
    "# img.1600x1000.date.2022-07-07_19-36-43.hitname.face_4208.rotation.54.distance.3.frame.45567"
   ]
  },
  {
   "cell_type": "markdown",
   "metadata": {
    "slideshow": {
     "slide_type": "slide"
    }
   },
   "source": [
    "## Task 1:\n",
    "<strong>Identify the shifts in the imageInfo stream and save them to a new columns called _\"shift\"_</strong>\n",
    "\n",
    "Hint: We can compare the rows of the _imageName_ column with each other identifying every first time it changes from startMessage to grayCanvas or to something else.\n",
    "\n",
    "Test your results against the unit tests in the next cell."
   ]
  },
  {
   "cell_type": "code",
   "execution_count": 51,
   "metadata": {
    "slideshow": {
     "slide_type": "fragment"
    }
   },
   "outputs": [],
   "source": [
    "# identify the shifts in the imageInfo stream\n",
    "df['shift'] = df['imageName_ImageInfo'].shift(1) != df['imageName_ImageInfo']"
   ]
  },
  {
   "cell_type": "code",
   "execution_count": null,
   "metadata": {
    "pycharm": {
     "is_executing": true
    },
    "slideshow": {
     "slide_type": "fragment"
    }
   },
   "outputs": [],
   "source": [
    "%%unittest\n",
    "# Test your result against the expected outcome\n",
    "# when correct, it returns 'Success'\n",
    "assert 'shift' in df.head()\n",
    "assert len(df[df['shift']]) == 5045"
   ]
  },
  {
   "cell_type": "markdown",
   "metadata": {
    "slideshow": {
     "slide_type": "slide"
    }
   },
   "source": [
    "## Task 2:\n",
    "<strong>Extract the names of objets, bodies, and faces from the image name and store in a separate column _\"ob_names\"_</strong>\n",
    "\n",
    "Hint: we can use a lambda function on the DataFrame to create new series of values. Here some sources:\n",
    "- [Applying a function along an axis of the DataFrame.](https://pandas.pydata.org/docs/reference/api/pandas.DataFrame.apply.html)\n",
    "- [Lambdas documentation](https://book.pythontips.com/en/latest/lambdas.html)\n",
    "- [Python lambda Tutorial](https://www.datacamp.com/tutorial/python-lambda)\n",
    "\n",
    "Test your results against the unit tests in the next cell."
   ]
  },
  {
   "cell_type": "code",
   "execution_count": null,
   "metadata": {
    "slideshow": {
     "slide_type": "fragment"
    }
   },
   "outputs": [],
   "source": [
    "# save the names of the object, body or face shown in the image\n",
    "df['ob_names'] =  df.apply(lambda x: x[\"imageName_ImageInfo\"].split(\".\")[5]\n",
    "                if len(x[\"imageName_ImageInfo\"].split(\".\")) > 7 else '', axis=1)"
   ]
  },
  {
   "cell_type": "code",
   "execution_count": null,
   "metadata": {
    "slideshow": {
     "slide_type": "fragment"
    }
   },
   "outputs": [],
   "source": [
    "%%unittest\n",
    "# Test your result against the expected outcome\n",
    "assert 'ob_names' in df.head()\n",
    "assert len(df['ob_names'].unique()) == 103"
   ]
  },
  {
   "cell_type": "markdown",
   "metadata": {
    "slideshow": {
     "slide_type": "slide"
    }
   },
   "source": [
    "## Task3:\n",
    "<strong>Create a new column called \"latency\" containing the exact time when an image was first displayed.</strong>\n",
    "\n",
    "These will correspond to the times indicating the stimulus onsets for the even related potential (ERP), which are usually called _\"latency\"_ in the EEG trigger files.\n",
    "\n",
    "Hint: again we can use a lambda function on the DataFrame to create new series of values.\n",
    "\n",
    "Test your results against the unit tests in the next cell."
   ]
  },
  {
   "cell_type": "code",
   "execution_count": null,
   "metadata": {
    "slideshow": {
     "slide_type": "fragment"
    }
   },
   "outputs": [],
   "source": [
    "# save the starting time (aka 'latency') when image is displayed\n",
    "df['latency'] = df.apply(lambda x: x['normalized_tstamps_ImageInfo']\n",
    "                if len(x[\"imageName_ImageInfo\"].split(\".\")) > 7\n",
    "                and x['shift'] else '', axis=1)"
   ]
  },
  {
   "cell_type": "markdown",
   "metadata": {
    "slideshow": {
     "slide_type": "slide"
    }
   },
   "source": [
    "## Task 4:\n",
    "<strong>Save the type of image that was displayed (face, object, body) in a column called _\"type\"_</strong>\n",
    "\n",
    "Hint: we can again use a lambda function on the DataFrame to create new series of values depending on the string type in a column and values in a different column.\n",
    "\n",
    "Test your results against the unit tests in the next cell."
   ]
  },
  {
   "cell_type": "code",
   "execution_count": null,
   "metadata": {
    "slideshow": {
     "slide_type": "fragment"
    }
   },
   "outputs": [],
   "source": [
    "# save the type of image displaying (face, object, body)\n",
    "df['type'] = df.apply(lambda x: 'face' if x['shift'] and 'face'\n",
    "                        in x['imageName_ImageInfo'].lower()\n",
    "                        else ('body' if x['shift'] and 'npc'\n",
    "                        in x['imageName_ImageInfo'].lower()\n",
    "                        else ('object' if x['shift'] and 'rotation'\n",
    "                        in x['imageName_ImageInfo'].lower()\n",
    "                        and 'face|npc' not in x['imageName_ImageInfo'].lower()\n",
    "                        else '')), axis=1)"
   ]
  },
  {
   "cell_type": "code",
   "execution_count": null,
   "metadata": {
    "slideshow": {
     "slide_type": "fragment"
    }
   },
   "outputs": [],
   "source": [
    "%%unittest\n",
    "# Test your result against the expected outcome\n",
    "assert 'type' in df.head()\n",
    "assert len(df['type'].unique()) == 4\n",
    "assert len(df[df['type'] == 'body']) == 560\n",
    "assert len(df[df['type'] == 'face']) == 560\n",
    "assert len(df[df['type'] == 'object']) == 560"
   ]
  },
  {
   "cell_type": "markdown",
   "metadata": {
    "slideshow": {
     "slide_type": "slide"
    }
   },
   "source": [
    "## Task 5:\n",
    "<strong>Define the triggers for rotation, distance, and block</strong>\n",
    "\n",
    "Finally, we can define the stimulus onsets for rotation, distance, and block in the same way we have defined it for faces.\n",
    "Aftweward, we just need to save the stimulus onsets into a single _\"triggers\"_ dataframe"
   ]
  },
  {
   "cell_type": "code",
   "execution_count": null,
   "metadata": {
    "slideshow": {
     "slide_type": "fragment"
    }
   },
   "outputs": [],
   "source": [
    "# define the triggers for rotation, distance, and block\n",
    "df['rotation'] = df.apply(lambda x: x[\"imageName_ImageInfo\"].split(\".\")[7]\n",
    "                if len(x[\"imageName_ImageInfo\"].split(\".\")) > 7\n",
    "                and x['shift'] else '', axis=1)\n",
    "# distances\n",
    "df['distance'] = df.apply(lambda x: x[\"imageName_ImageInfo\"].split(\".\")[9]\n",
    "                if len(x[\"imageName_ImageInfo\"].split(\".\")) > 7\n",
    "                and x['shift'] else '', axis=1)\n",
    "# blocks\n",
    "df['block'] = df.apply(lambda x: str(x[\"blockNumber_ImageInfo\"])\n",
    "                if len(x[\"imageName_ImageInfo\"].split(\".\")) > 7\n",
    "                and x['shift'] else '', axis=1)\n",
    "\n",
    "# select the trigger columns and non-empty rows\n",
    "df_selected = df[['latency','type','rotation','distance','block']]\n",
    "df_triggers = df_selected[df_selected['latency'] != '']"
   ]
  },
  {
   "cell_type": "code",
   "execution_count": 53,
   "metadata": {
    "slideshow": {
     "slide_type": "subslide"
    }
   },
   "outputs": [
    {
     "data": {
      "text/html": [
       "<div>\n",
       "<style scoped>\n",
       "    .dataframe tbody tr th:only-of-type {\n",
       "        vertical-align: middle;\n",
       "    }\n",
       "\n",
       "    .dataframe tbody tr th {\n",
       "        vertical-align: top;\n",
       "    }\n",
       "\n",
       "    .dataframe thead th {\n",
       "        text-align: right;\n",
       "    }\n",
       "</style>\n",
       "<table border=\"1\" class=\"dataframe\">\n",
       "  <thead>\n",
       "    <tr style=\"text-align: right;\">\n",
       "      <th></th>\n",
       "      <th>latency</th>\n",
       "      <th>type</th>\n",
       "      <th>rotation</th>\n",
       "      <th>distance</th>\n",
       "      <th>block</th>\n",
       "    </tr>\n",
       "  </thead>\n",
       "  <tbody>\n",
       "    <tr>\n",
       "      <th>852</th>\n",
       "      <td>9.726232</td>\n",
       "      <td>face</td>\n",
       "      <td>54</td>\n",
       "      <td>3</td>\n",
       "      <td>0</td>\n",
       "    </tr>\n",
       "    <tr>\n",
       "      <th>1026</th>\n",
       "      <td>11.659936</td>\n",
       "      <td>face</td>\n",
       "      <td>11</td>\n",
       "      <td>4</td>\n",
       "      <td>0</td>\n",
       "    </tr>\n",
       "    <tr>\n",
       "      <th>1171</th>\n",
       "      <td>13.271228</td>\n",
       "      <td>face</td>\n",
       "      <td>70</td>\n",
       "      <td>6</td>\n",
       "      <td>0</td>\n",
       "    </tr>\n",
       "    <tr>\n",
       "      <th>1327</th>\n",
       "      <td>15.016206</td>\n",
       "      <td>object</td>\n",
       "      <td>122</td>\n",
       "      <td>10</td>\n",
       "      <td>0</td>\n",
       "    </tr>\n",
       "    <tr>\n",
       "      <th>1474</th>\n",
       "      <td>16.649466</td>\n",
       "      <td>body</td>\n",
       "      <td>5</td>\n",
       "      <td>1</td>\n",
       "      <td>0</td>\n",
       "    </tr>\n",
       "    <tr>\n",
       "      <th>...</th>\n",
       "      <td>...</td>\n",
       "      <td>...</td>\n",
       "      <td>...</td>\n",
       "      <td>...</td>\n",
       "      <td>...</td>\n",
       "    </tr>\n",
       "    <tr>\n",
       "      <th>335878</th>\n",
       "      <td>3871.356952</td>\n",
       "      <td>body</td>\n",
       "      <td>140</td>\n",
       "      <td>6</td>\n",
       "      <td>3</td>\n",
       "    </tr>\n",
       "    <tr>\n",
       "      <th>336022</th>\n",
       "      <td>3872.957275</td>\n",
       "      <td>face</td>\n",
       "      <td>12</td>\n",
       "      <td>4</td>\n",
       "      <td>3</td>\n",
       "    </tr>\n",
       "    <tr>\n",
       "      <th>336186</th>\n",
       "      <td>3874.779939</td>\n",
       "      <td>object</td>\n",
       "      <td>122</td>\n",
       "      <td>10</td>\n",
       "      <td>3</td>\n",
       "    </tr>\n",
       "    <tr>\n",
       "      <th>336368</th>\n",
       "      <td>3876.802336</td>\n",
       "      <td>face</td>\n",
       "      <td>7</td>\n",
       "      <td>1</td>\n",
       "      <td>3</td>\n",
       "    </tr>\n",
       "    <tr>\n",
       "      <th>336515</th>\n",
       "      <td>3878.447059</td>\n",
       "      <td>object</td>\n",
       "      <td>73</td>\n",
       "      <td>11</td>\n",
       "      <td>3</td>\n",
       "    </tr>\n",
       "  </tbody>\n",
       "</table>\n",
       "<p>1680 rows × 5 columns</p>\n",
       "</div>"
      ],
      "text/plain": [
       "            latency    type rotation distance block\n",
       "852        9.726232    face       54        3     0\n",
       "1026      11.659936    face       11        4     0\n",
       "1171      13.271228    face       70        6     0\n",
       "1327      15.016206  object      122       10     0\n",
       "1474      16.649466    body        5        1     0\n",
       "...             ...     ...      ...      ...   ...\n",
       "335878  3871.356952    body      140        6     3\n",
       "336022  3872.957275    face       12        4     3\n",
       "336186  3874.779939  object      122       10     3\n",
       "336368  3876.802336    face        7        1     3\n",
       "336515  3878.447059  object       73       11     3\n",
       "\n",
       "[1680 rows x 5 columns]"
      ]
     },
     "execution_count": 53,
     "metadata": {},
     "output_type": "execute_result"
    }
   ],
   "source": [
    "df_triggers"
   ]
  }
 ],
 "metadata": {
  "celltoolbar": "Slideshow",
  "kernelspec": {
   "display_name": "Python 3",
   "language": "python",
   "name": "python3"
  },
  "language_info": {
   "codemirror_mode": {
    "name": "ipython",
    "version": 3
   },
   "file_extension": ".py",
   "mimetype": "text/x-python",
   "name": "python",
   "nbconvert_exporter": "python",
   "pygments_lexer": "ipython3",
   "version": "3.8.10"
  }
 },
 "nbformat": 4,
 "nbformat_minor": 1
}
