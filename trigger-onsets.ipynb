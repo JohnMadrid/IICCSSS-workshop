{
 "cells": [
  {
   "cell_type": "markdown",
   "source": [
    "<img src=\"logos/‎cover‎001.png\" alt=\"Drawing\"/>"
   ],
   "metadata": {
    "collapsed": false
   }
  },
  {
   "cell_type": "code",
   "execution_count": 1,
   "outputs": [],
   "source": [
    "%load_ext ipython_unittest\n",
    "# imports\n",
    "import pandas as pd\n",
    "import unittest"
   ],
   "metadata": {
    "collapsed": false
   }
  },
  {
   "cell_type": "markdown",
   "source": [
    "# Identifying stimulus onsets\n",
    "\n",
    "After testing the devices' latencies, we concluded that latencies are constant and devices are synchronized. Now, we did the actual experiment with a participant.\n",
    "\n",
    "<strong>Situation:</strong> Participant sat on a chair inside a virtual room and performed a visual task looking at some images. Simultaneously, we collected brain and eye-tracking data. We saved the following streams:\n",
    "\n",
    "| <strong>Device</strong> | <strong>Stream</strong> | <strong>Content</strong>                                                                                       |\n",
    "|-------------------------| --- |----------------------------------------------------------------------------------------------------------------|\n",
    "| EEG                     | 64 channels | brain signal                                                                                                   |\n",
    "| Unity                   | _ImageInfo_ | _blockNumber_ (0-3), _imageName_ (face, body, object or 'fixation', 'grayCanvas' when not displaying an image) |\n",
    "| Unity                   | _Visual_| _displayStatus_ (0 for images, 1 for fixation, 2 for canvas, and -1  for start of experiment)                  |\n",
    "\n",
    "Lab Streaming Layer <strong>(LSL)</strong> was used to store and synchronize the streams' timestamps (_time_stamps_)"
   ],
   "metadata": {
    "collapsed": false
   }
  },
  {
   "cell_type": "markdown",
   "source": [
    "## 1. Load Data"
   ],
   "metadata": {
    "collapsed": false
   }
  },
  {
   "cell_type": "code",
   "execution_count": 23,
   "outputs": [
    {
     "name": "stderr",
     "output_type": "stream",
     "text": [
      "/opt/anaconda3/envs/DefaultPython3/lib/python3.8/site-packages/IPython/core/interactiveshell.py:3433: DtypeWarning: Columns (12,14) have mixed types.Specify dtype option on import or set low_memory=False.\n",
      "  exec(code_obj, self.user_global_ns, self.user_ns)\n"
     ]
    },
    {
     "data": {
      "text/plain": "        uid  blockNumber_ImageInfo imageName_ImageInfo  time_stamps_ImageInfo  \\\n0         1                      0        startMessage            532358.0120   \n1         1                      0        startMessage            532358.0229   \n2         1                      0        startMessage            532358.0341   \n3         1                      0        startMessage            532358.0452   \n4         1                      0        startMessage            532358.0563   \n...     ...                    ...                 ...                    ...   \n337005    1                      3          endMessage            536239.2642   \n337006    1                      3          endMessage            536239.2753   \n337007    1                      3          endMessage            536239.2866   \n337008    1                      3          endMessage            536239.2975   \n337009    1                      3          endMessage            536239.3086   \n\n        corrected_tstamps_ImageInfo  normalized_tstamps_ImageInfo  \\\n0                       532358.0120                      0.257938   \n1                       532358.0229                      0.268885   \n2                       532358.0341                      0.280011   \n3                       532358.0452                      0.291130   \n4                       532358.0563                      0.302254   \n...                             ...                           ...   \n337005                  536241.6461                   3883.892064   \n337006                  536241.6572                   3883.903141   \n337007                  536241.6686                   3883.914500   \n337008                  536241.6795                   3883.925402   \n337009                  536241.6906                   3883.936525   \n\n        cFrame_Visual  displayStatus_Visual  worldTime_Visual  \\\n0                6713                    -1         116.86852   \n1                6714                    -1         116.87947   \n2                6715                    -1         116.89059   \n3                6716                    -1         116.90169   \n4                6717                    -1         116.91281   \n...               ...                   ...               ...   \n337005         343751                    99        3998.12800   \n337006         343752                    99        3998.13900   \n337007         343753                    99        3998.15040   \n337008         343754                    99        3998.16140   \n337009         343755                    99        3998.17240   \n\n        time_stamps_Visual  ...  normalized_tstamps_EyeTrackingWorld  \\\n0              532358.0120  ...                                  NaN   \n1              532358.0229  ...                                  NaN   \n2              532358.0341  ...                                  NaN   \n3              532358.0452  ...                                  NaN   \n4              532358.0563  ...                                  NaN   \n...                    ...  ...                                  ...   \n337005         536239.2642  ...                                  NaN   \n337006         536239.2753  ...                                  NaN   \n337007         536239.2866  ...                                  NaN   \n337008         536239.2975  ...                                  NaN   \n337009         536239.3086  ...                                  NaN   \n\n        ETLoriginX_EyeTrackingLocal ETLoriginY_EyeTrackingLocal  \\\n0                               NaN                         NaN   \n1                               NaN                         NaN   \n2                               NaN                         NaN   \n3                               NaN                         NaN   \n4                               NaN                         NaN   \n...                             ...                         ...   \n337005                          NaN                         NaN   \n337006                          NaN                         NaN   \n337007                          NaN                         NaN   \n337008                          NaN                         NaN   \n337009                          NaN                         NaN   \n\n        ETLoriginZ_EyeTrackingLocal ETLdirectionX_EyeTrackingLocal  \\\n0                               NaN                            NaN   \n1                               NaN                            NaN   \n2                               NaN                            NaN   \n3                               NaN                            NaN   \n4                               NaN                            NaN   \n...                             ...                            ...   \n337005                          NaN                            NaN   \n337006                          NaN                            NaN   \n337007                          NaN                            NaN   \n337008                          NaN                            NaN   \n337009                          NaN                            NaN   \n\n        ETLdirectionY_EyeTrackingLocal  ETLdirectionZ_EyeTrackingLocal  \\\n0                                  NaN                             NaN   \n1                                  NaN                             NaN   \n2                                  NaN                             NaN   \n3                                  NaN                             NaN   \n4                                  NaN                             NaN   \n...                                ...                             ...   \n337005                             NaN                             NaN   \n337006                             NaN                             NaN   \n337007                             NaN                             NaN   \n337008                             NaN                             NaN   \n337009                             NaN                             NaN   \n\n        time_stamps_EyeTrackingLocal  corrected_tstamps_EyeTrackingLocal  \\\n0                                NaN                                 NaN   \n1                                NaN                                 NaN   \n2                                NaN                                 NaN   \n3                                NaN                                 NaN   \n4                                NaN                                 NaN   \n...                              ...                                 ...   \n337005                           NaN                                 NaN   \n337006                           NaN                                 NaN   \n337007                           NaN                                 NaN   \n337008                           NaN                                 NaN   \n337009                           NaN                                 NaN   \n\n        normalized_tstamps_EyeTrackingLocal  \n0                                       NaN  \n1                                       NaN  \n2                                       NaN  \n3                                       NaN  \n4                                       NaN  \n...                                     ...  \n337005                                  NaN  \n337006                                  NaN  \n337007                                  NaN  \n337008                                  NaN  \n337009                                  NaN  \n\n[337010 rows x 55 columns]",
      "text/html": "<div>\n<style scoped>\n    .dataframe tbody tr th:only-of-type {\n        vertical-align: middle;\n    }\n\n    .dataframe tbody tr th {\n        vertical-align: top;\n    }\n\n    .dataframe thead th {\n        text-align: right;\n    }\n</style>\n<table border=\"1\" class=\"dataframe\">\n  <thead>\n    <tr style=\"text-align: right;\">\n      <th></th>\n      <th>uid</th>\n      <th>blockNumber_ImageInfo</th>\n      <th>imageName_ImageInfo</th>\n      <th>time_stamps_ImageInfo</th>\n      <th>corrected_tstamps_ImageInfo</th>\n      <th>normalized_tstamps_ImageInfo</th>\n      <th>cFrame_Visual</th>\n      <th>displayStatus_Visual</th>\n      <th>worldTime_Visual</th>\n      <th>time_stamps_Visual</th>\n      <th>...</th>\n      <th>normalized_tstamps_EyeTrackingWorld</th>\n      <th>ETLoriginX_EyeTrackingLocal</th>\n      <th>ETLoriginY_EyeTrackingLocal</th>\n      <th>ETLoriginZ_EyeTrackingLocal</th>\n      <th>ETLdirectionX_EyeTrackingLocal</th>\n      <th>ETLdirectionY_EyeTrackingLocal</th>\n      <th>ETLdirectionZ_EyeTrackingLocal</th>\n      <th>time_stamps_EyeTrackingLocal</th>\n      <th>corrected_tstamps_EyeTrackingLocal</th>\n      <th>normalized_tstamps_EyeTrackingLocal</th>\n    </tr>\n  </thead>\n  <tbody>\n    <tr>\n      <th>0</th>\n      <td>1</td>\n      <td>0</td>\n      <td>startMessage</td>\n      <td>532358.0120</td>\n      <td>532358.0120</td>\n      <td>0.257938</td>\n      <td>6713</td>\n      <td>-1</td>\n      <td>116.86852</td>\n      <td>532358.0120</td>\n      <td>...</td>\n      <td>NaN</td>\n      <td>NaN</td>\n      <td>NaN</td>\n      <td>NaN</td>\n      <td>NaN</td>\n      <td>NaN</td>\n      <td>NaN</td>\n      <td>NaN</td>\n      <td>NaN</td>\n      <td>NaN</td>\n    </tr>\n    <tr>\n      <th>1</th>\n      <td>1</td>\n      <td>0</td>\n      <td>startMessage</td>\n      <td>532358.0229</td>\n      <td>532358.0229</td>\n      <td>0.268885</td>\n      <td>6714</td>\n      <td>-1</td>\n      <td>116.87947</td>\n      <td>532358.0229</td>\n      <td>...</td>\n      <td>NaN</td>\n      <td>NaN</td>\n      <td>NaN</td>\n      <td>NaN</td>\n      <td>NaN</td>\n      <td>NaN</td>\n      <td>NaN</td>\n      <td>NaN</td>\n      <td>NaN</td>\n      <td>NaN</td>\n    </tr>\n    <tr>\n      <th>2</th>\n      <td>1</td>\n      <td>0</td>\n      <td>startMessage</td>\n      <td>532358.0341</td>\n      <td>532358.0341</td>\n      <td>0.280011</td>\n      <td>6715</td>\n      <td>-1</td>\n      <td>116.89059</td>\n      <td>532358.0341</td>\n      <td>...</td>\n      <td>NaN</td>\n      <td>NaN</td>\n      <td>NaN</td>\n      <td>NaN</td>\n      <td>NaN</td>\n      <td>NaN</td>\n      <td>NaN</td>\n      <td>NaN</td>\n      <td>NaN</td>\n      <td>NaN</td>\n    </tr>\n    <tr>\n      <th>3</th>\n      <td>1</td>\n      <td>0</td>\n      <td>startMessage</td>\n      <td>532358.0452</td>\n      <td>532358.0452</td>\n      <td>0.291130</td>\n      <td>6716</td>\n      <td>-1</td>\n      <td>116.90169</td>\n      <td>532358.0452</td>\n      <td>...</td>\n      <td>NaN</td>\n      <td>NaN</td>\n      <td>NaN</td>\n      <td>NaN</td>\n      <td>NaN</td>\n      <td>NaN</td>\n      <td>NaN</td>\n      <td>NaN</td>\n      <td>NaN</td>\n      <td>NaN</td>\n    </tr>\n    <tr>\n      <th>4</th>\n      <td>1</td>\n      <td>0</td>\n      <td>startMessage</td>\n      <td>532358.0563</td>\n      <td>532358.0563</td>\n      <td>0.302254</td>\n      <td>6717</td>\n      <td>-1</td>\n      <td>116.91281</td>\n      <td>532358.0563</td>\n      <td>...</td>\n      <td>NaN</td>\n      <td>NaN</td>\n      <td>NaN</td>\n      <td>NaN</td>\n      <td>NaN</td>\n      <td>NaN</td>\n      <td>NaN</td>\n      <td>NaN</td>\n      <td>NaN</td>\n      <td>NaN</td>\n    </tr>\n    <tr>\n      <th>...</th>\n      <td>...</td>\n      <td>...</td>\n      <td>...</td>\n      <td>...</td>\n      <td>...</td>\n      <td>...</td>\n      <td>...</td>\n      <td>...</td>\n      <td>...</td>\n      <td>...</td>\n      <td>...</td>\n      <td>...</td>\n      <td>...</td>\n      <td>...</td>\n      <td>...</td>\n      <td>...</td>\n      <td>...</td>\n      <td>...</td>\n      <td>...</td>\n      <td>...</td>\n      <td>...</td>\n    </tr>\n    <tr>\n      <th>337005</th>\n      <td>1</td>\n      <td>3</td>\n      <td>endMessage</td>\n      <td>536239.2642</td>\n      <td>536241.6461</td>\n      <td>3883.892064</td>\n      <td>343751</td>\n      <td>99</td>\n      <td>3998.12800</td>\n      <td>536239.2642</td>\n      <td>...</td>\n      <td>NaN</td>\n      <td>NaN</td>\n      <td>NaN</td>\n      <td>NaN</td>\n      <td>NaN</td>\n      <td>NaN</td>\n      <td>NaN</td>\n      <td>NaN</td>\n      <td>NaN</td>\n      <td>NaN</td>\n    </tr>\n    <tr>\n      <th>337006</th>\n      <td>1</td>\n      <td>3</td>\n      <td>endMessage</td>\n      <td>536239.2753</td>\n      <td>536241.6572</td>\n      <td>3883.903141</td>\n      <td>343752</td>\n      <td>99</td>\n      <td>3998.13900</td>\n      <td>536239.2753</td>\n      <td>...</td>\n      <td>NaN</td>\n      <td>NaN</td>\n      <td>NaN</td>\n      <td>NaN</td>\n      <td>NaN</td>\n      <td>NaN</td>\n      <td>NaN</td>\n      <td>NaN</td>\n      <td>NaN</td>\n      <td>NaN</td>\n    </tr>\n    <tr>\n      <th>337007</th>\n      <td>1</td>\n      <td>3</td>\n      <td>endMessage</td>\n      <td>536239.2866</td>\n      <td>536241.6686</td>\n      <td>3883.914500</td>\n      <td>343753</td>\n      <td>99</td>\n      <td>3998.15040</td>\n      <td>536239.2866</td>\n      <td>...</td>\n      <td>NaN</td>\n      <td>NaN</td>\n      <td>NaN</td>\n      <td>NaN</td>\n      <td>NaN</td>\n      <td>NaN</td>\n      <td>NaN</td>\n      <td>NaN</td>\n      <td>NaN</td>\n      <td>NaN</td>\n    </tr>\n    <tr>\n      <th>337008</th>\n      <td>1</td>\n      <td>3</td>\n      <td>endMessage</td>\n      <td>536239.2975</td>\n      <td>536241.6795</td>\n      <td>3883.925402</td>\n      <td>343754</td>\n      <td>99</td>\n      <td>3998.16140</td>\n      <td>536239.2975</td>\n      <td>...</td>\n      <td>NaN</td>\n      <td>NaN</td>\n      <td>NaN</td>\n      <td>NaN</td>\n      <td>NaN</td>\n      <td>NaN</td>\n      <td>NaN</td>\n      <td>NaN</td>\n      <td>NaN</td>\n      <td>NaN</td>\n    </tr>\n    <tr>\n      <th>337009</th>\n      <td>1</td>\n      <td>3</td>\n      <td>endMessage</td>\n      <td>536239.3086</td>\n      <td>536241.6906</td>\n      <td>3883.936525</td>\n      <td>343755</td>\n      <td>99</td>\n      <td>3998.17240</td>\n      <td>536239.3086</td>\n      <td>...</td>\n      <td>NaN</td>\n      <td>NaN</td>\n      <td>NaN</td>\n      <td>NaN</td>\n      <td>NaN</td>\n      <td>NaN</td>\n      <td>NaN</td>\n      <td>NaN</td>\n      <td>NaN</td>\n      <td>NaN</td>\n    </tr>\n  </tbody>\n</table>\n<p>337010 rows × 55 columns</p>\n</div>"
     },
     "execution_count": 23,
     "metadata": {},
     "output_type": "execute_result"
    }
   ],
   "source": [
    "# load csv as dataframe\n",
    "df = pd.read_csv(\"data-onsets/all_streams_ab6397.csv\")\n",
    "df"
   ],
   "metadata": {
    "collapsed": false
   }
  },
  {
   "cell_type": "code",
   "execution_count": 26,
   "outputs": [
    {
     "data": {
      "text/plain": "array(['startMessage', 'grayCanvas', 'fixationCross',\n       'img.1600x1000.date.2022-07-07_19-36-43.hitname.face_4208.rotation.54.distance.3.frame.45567',\n       'img.1600x1000.date.2022-07-11_23-59-49.hitname.face_4161.rotation.11.distance.4.frame.10465',\n       'img.1600x1000.date.2022-07-08_00-06-12.hitname.face_4209.rotation.70.distance.6.frame.47066',\n       'img.1600x1000.date.2022-07-12_00-39-20.hitname.metalBench (2).rotation.122.distance.10.frame.97746',\n       'img.1600x1000.date.2022-08-04_19-48-46.hitname.Sitting_NPC (4241).rotation.5.distance.1.frame.124035',\n       'img.1600x1000.date.2022-07-08_00-24-19.hitname.EU_TrafficLight_01.rotation.37.distance.27.frame.85782',\n       'img.1600x1000.date.2022-07-07_21-44-02.hitname.face_4241.rotation.7.distance.1.frame.124009',\n       'img.1600x1000.date.2022-08-04_20-28-12.hitname.NPC-625.rotation.175.distance.10.frame.97156',\n       'img.1600x1000.date.2022-08-04_19-47-46.hitname.Sitting_NPC (418).rotation.5.distance.5.frame.121729',\n       'img.1600x1000.date.2022-07-07_19-38-47.hitname.face_4626.rotation.5.distance.2.frame.50018',\n       'img.1600x1000.date.2022-07-07_19-28-37.hitname.House1.rotation.104.distance.48.frame.28639',\n       'img.1600x1000.date.2022-07-07_19-34-55.hitname.face_603.rotation.58.distance.5.frame.42337',\n       'img.1600x1000.date.2022-07-07_19-17-19.hitname.newspaperVendor01.rotation.93.distance.13.frame.9249',\n       'img.1600x1000.date.2022-07-08_00-05-53.hitname.face_4627.rotation.8.distance.4.frame.46317',\n       'img.1600x1000.date.2022-07-08_00-22-09.hitname.streetLight2 (33).rotation.81.distance.11.frame.81024',\n       'img.1600x1000.date.2022-08-04_20-45-14.hitname.NPC-4629.rotation.65.distance.2.frame.154940',\n       'img.1600x1000.date.2022-08-04_21-32-04.hitname.Sitting_NPC (410).rotation.175.distance.7.frame.263',\n       'img.1600x1000.date.2022-08-04_21-55-11.hitname.New_NPC (75)(Clone).rotation.13.distance.14.frame.80321',\n       'img.1600x1000.date.2022-07-07_21-42-55.hitname.face_4605.rotation.13.distance.4.frame.121913',\n       'img.1600x1000.date.2022-07-12_00-54-34.hitname.face_4605.rotation.80.distance.1.frame.140209',\n       'img.1600x1000.date.2022-07-07_19-27-07.hitname.face_4609.rotation.2.distance.2.frame.25462',\n       'img.1600x1000.date.2022-07-12_00-03-54.hitname.NewsBoard.rotation.167.distance.13.frame.18736',\n       'img.1600x1000.date.2022-08-04_20-06-52.hitname.Sitting_NPC (420).rotation.27.distance.6.frame.27638',\n       'img.1600x1000.date.2022-07-07_21-42-58.hitname.face_4605.rotation.14.distance.3.frame.121981',\n       'img.1600x1000.date.2022-07-07_19-38-21.hitname.face_4626.rotation.10.distance.3.frame.48874',\n       'img.1600x1000.date.2022-08-04_22-14-50.hitname.Sitting_NPC (415).rotation.113.distance.9.frame.138474',\n       'img.1600x1000.date.2022-07-07_19-35-00.hitname.face_412.rotation.10.distance.3.frame.42580',\n       'img.1600x1000.date.2022-07-12_00-40-18.hitname.EU_TrafficLight_01 (1).rotation.50.distance.15.frame.100762',\n       'img.1600x1000.date.2022-07-12_00-23-28.hitname.face_422.rotation.85.distance.1.frame.55630',\n       'img.1600x1000.date.2022-08-04_21-38-52.hitname.NPC-4608.rotation.166.distance.5.frame.23748',\n       'img.1600x1000.date.2022-08-04_19-47-32.hitname.Sitting_NPC (418).rotation.18.distance.11.frame.121290',\n       'img.1600x1000.date.2022-07-12_00-03-40.hitname.powerCabinet.rotation.152.distance.6.frame.18098',\n       'img.1600x1000.date.2022-07-08_00-17-18.hitname.mailbox01 (2).rotation.108.distance.8.frame.70349',\n       'img.1600x1000.date.2022-08-04_20-29-15.hitname.NPC-4623.rotation.10.distance.9.frame.99873',\n       'img.1600x1000.date.2022-07-12_00-02-03.hitname.House_2.rotation.14.distance.80.frame.15361',\n       'img.1600x1000.date.2022-08-04_21-44-37.hitname.NPC-4627.rotation.2.distance.5.frame.46254',\n       'img.1600x1000.date.2022-08-04_20-05-09.hitname.NPC-4609.rotation.109.distance.9.frame.20155',\n       'img.1600x1000.date.2022-07-07_19-36-40.hitname.face_4203.rotation.24.distance.4.frame.45503',\n       'img.1600x1000.date.2022-08-04_19-22-37.hitname.NPC-4627.rotation.103.distance.1.frame.49191',\n       'img.1600x1000.date.2022-07-08_00-30-23.hitname.Motor (1).rotation.130.distance.9.frame.100314',\n       'img.1600x1000.date.2022-08-04_19-47-49.hitname.NPC-4605.rotation.12.distance.4.frame.121801',\n       'img.1600x1000.date.2022-07-07_19-36-34.hitname.face_4208.rotation.31.distance.6.frame.45297',\n       'img.1600x1000.date.2022-07-07_19-56-23.hitname.face_483.rotation.53.distance.6.frame.84464',\n       'img.1600x1000.date.2022-10-07_17-32-46.hitname.face_427.rotation.7.distance.3.frame.115437',\n       'img.1600x1000.date.2022-08-04_21-42-39.hitname.NPC-627.rotation.179.distance.9.frame.39382',\n       'img.1600x1000.date.2022-07-08_00-06-52.hitname.streetLight2 (30).rotation.143.distance.43.frame.48370',\n       'img.1600x1000.date.2022-07-08_00-34-37.hitname.redFlyer_B011 (2).rotation.62.distance.13.frame.109856',\n       'img.1600x1000.date.2022-07-07_21-43-38.hitname.face_4241.rotation.1.distance.3.frame.123301',\n       'img.1600x1000.date.2022-07-12_00-34-03.hitname.Bench.rotation.75.distance.4.frame.85093',\n       'img.1600x1000.date.2022-07-07_19-36-45.hitname.face_4209.rotation.114.distance.2.frame.45645',\n       'img.1600x1000.date.2022-08-04_21-58-30.hitname.NPC-627.rotation.169.distance.7.frame.88017',\n       'img.1600x1000.date.2022-07-08_00-30-12.hitname.Motor (1).rotation.124.distance.14.frame.100095',\n       'img.1600x1000.date.2022-07-07_19-26-43.hitname.face_4609.rotation.8.distance.4.frame.24867',\n       'img.1600x1000.date.2022-07-08_00-04-34.hitname.Combined_2 (2).rotation.135.distance.45.frame.44035',\n       'img.1600x1000.date.2022-08-04_19-15-22.hitname.NPC-4609.rotation.11.distance.1.frame.25699',\n       'img.1600x1000.date.2022-08-04_19-47-52.hitname.NPC-4605.rotation.15.distance.2.frame.122051',\n       'img.1600x1000.date.2022-08-04_19-15-18.hitname.NPC-4609.rotation.1.distance.2.frame.25440',\n       'img.1600x1000.date.2022-07-07_19-32-59.hitname.hydrant01.rotation.178.distance.7.frame.38914',\n       'img.1600x1000.date.2022-08-04_20-04-52.hitname.New_NPC (480).rotation.51.distance.9.frame.18785',\n       'img.1600x1000.date.2022-07-07_19-38-36.hitname.face_4626.rotation.2.distance.2.frame.49519',\n       'img.1600x1000.date.2022-07-08_00-03-22.hitname.face_625.rotation.0.distance.6.frame.39614',\n       'img.1600x1000.date.2022-08-04_20-03-31.hitname.NPC-4623.rotation.13.distance.11.frame.14420',\n       'img.1600x1000.date.2022-07-07_21-43-40.hitname.face_4161.rotation.14.distance.2.frame.123336',\n       'img.1600x1000.date.2022-07-12_00-23-30.hitname.face_410.rotation.15.distance.2.frame.55662',\n       'img.1600x1000.date.2022-07-11_23-59-35.hitname.face_4605.rotation.8.distance.3.frame.9713',\n       'img.1600x1000.date.2022-08-04_20-45-19.hitname.NPC-4628.rotation.62.distance.2.frame.155040',\n       'img.1600x1000.date.2022-07-12_00-03-08.hitname.face_619.rotation.37.distance.8.frame.17430',\n       'img.1600x1000.date.2022-07-07_19-38-24.hitname.face_4626.rotation.4.distance.3.frame.48934',\n       'img.1600x1000.date.2022-07-07_19-37-18.hitname.face_4209.rotation.94.distance.1.frame.46520',\n       'img.1600x1000.date.2022-08-04_19-42-55.hitname.New_NPC (480).rotation.4.distance.13.frame.107604',\n       'img.1600x1000.date.2022-07-07_19-46-03.hitname.newspaperVendor01.rotation.164.distance.8.frame.63215',\n       'img.1600x1000.date.2022-08-04_20-15-31.hitname.Sitting_NPC (410).rotation.9.distance.2.frame.55703',\n       'img.1600x1000.date.2022-07-08_00-16-45.hitname.B017 (3).rotation.27.distance.23.frame.69737',\n       'img.1600x1000.date.2022-07-12_01-01-11.hitname.trashcan_squarePrefab.rotation.37.distance.2.frame.157555',\n       'img.1600x1000.date.2022-07-07_19-33-41.hitname.B027.rotation.7.distance.40.frame.39942',\n       'img.1600x1000.date.2022-07-07_19-46-39.hitname.face_627.rotation.9.distance.2.frame.64508',\n       'img.1600x1000.date.2022-07-07_23-57-22.hitname.BasketballHoop1Prefab (1).rotation.82.distance.12.frame.28436',\n       'img.1600x1000.date.2022-07-07_19-37-04.hitname.face_4208.rotation.53.distance.1.frame.46095',\n       'img.1600x1000.date.2022-07-11_23-59-37.hitname.face_4605.rotation.4.distance.2.frame.9765',\n       'img.1600x1000.date.2022-07-12_00-01-42.hitname.StreetBox01.rotation.60.distance.9.frame.14839',\n       'img.1600x1000.date.2022-07-07_19-51-47.hitname.face_416.rotation.64.distance.1.frame.74239',\n       'img.1600x1000.date.2022-07-08_00-30-42.hitname.dumpster.rotation.20.distance.7.frame.100855',\n       'img.1600x1000.date.2022-07-07_19-17-30.hitname.newspaperVendor01.rotation.93.distance.4.frame.9886',\n       'img.1600x1000.date.2022-07-07_19-37-37.hitname.face_4208.rotation.53.distance.1.frame.47349',\n       'img.1600x1000.date.2022-08-04_21-38-31.hitname.NPC-4629.rotation.54.distance.5.frame.22702',\n       'img.1600x1000.date.2022-08-04_22-19-18.hitname.Sitting_NPC (422).rotation.96.distance.2.frame.153404',\n       'img.1600x1000.date.2022-07-07_19-50-24.hitname.face_410.rotation.23.distance.4.frame.70657',\n       'img.1600x1000.date.2022-07-07_19-22-55.hitname.hydrant01.rotation.53.distance.6.frame.18471',\n       'img.1600x1000.date.2022-07-12_00-03-19.hitname.Cathedral.rotation.4.distance.79.frame.17710',\n       'img.1600x1000.date.2022-07-07_19-38-30.hitname.face_4627.rotation.105.distance.1.frame.49111',\n       'img.1600x1000.date.2022-07-07_19-34-10.hitname.face_412.rotation.67.distance.4.frame.40707',\n       'img.1600x1000.date.2022-07-07_19-49-26.hitname.redFlyer_B011 (2).rotation.106.distance.13.frame.68893',\n       'img.1600x1000.date.2022-07-07_23-55-24.hitname.Book.rotation.32.distance.50.frame.23561',\n       'img.1600x1000.date.2022-10-07_17-31-45.hitname.face_416.rotation.37.distance.3.frame.115433',\n       'img.1600x1000.date.2022-08-04_19-21-54.hitname.NPC (4209).rotation.91.distance.1.frame.46945',\n       'img.1600x1000.date.2022-08-04_21-38-28.hitname.NPC-4628.rotation.81.distance.6.frame.22644',\n       'img.1600x1000.date.2022-08-04_19-27-05.hitname.NPC-625.rotation.180.distance.4.frame.64295',\n       'img.1600x1000.date.2022-08-04_19-29-13.hitname.Sitting_NPC (410).rotation.22.distance.5.frame.71231',\n       'img.1600x1000.date.2022-08-04_19-15-13.hitname.NPC-4608.rotation.133.distance.3.frame.25097',\n       'img.1600x1000.date.2022-08-04_20-12-26.hitname.Sitting_NPC (4061).rotation.18.distance.6.frame.46339',\n       'img.1600x1000.date.2022-07-11_23-55-59.hitname.B011 (2).rotation.15.distance.24.frame.837',\n       'img.1600x1000.date.2022-07-07_21-43-00.hitname.face_4605.rotation.14.distance.2.frame.122022',\n       'img.1600x1000.date.2022-08-04_20-15-10.hitname.New_NPC (483).rotation.174.distance.6.frame.54984',\n       'img.1600x1000.date.2022-07-12_00-00-31.hitname.face_4203.rotation.83.distance.2.frame.12009',\n       'img.1600x1000.date.2022-08-04_19-47-34.hitname.NPC-4605.rotation.22.distance.11.frame.121400',\n       'img.1600x1000.date.2022-07-12_00-12-18.hitname.face_627.rotation.112.distance.1.frame.33121',\n       'img.1600x1000.date.2022-08-04_21-43-24.hitname.Sitting_NPC (406).rotation.32.distance.9.frame.42925',\n       'img.1600x1000.date.2022-07-07_19-53-13.hitname.face_217.rotation.2.distance.2.frame.78341',\n       'img.1600x1000.date.2022-07-12_00-45-39.hitname.face_4165.rotation.72.distance.3.frame.114810',\n       'img.1600x1000.date.2022-07-12_00-00-30.hitname.face_4208.rotation.8.distance.3.frame.11980',\n       'img.1600x1000.date.2022-07-07_20-04-28.hitname.powerCabinet.rotation.115.distance.6.frame.105482',\n       'img.1600x1000.date.2022-07-08_00-06-43.hitname.House1.rotation.73.distance.72.frame.48170',\n       'img.1600x1000.date.2022-08-04_20-00-31.hitname.NPC-627.rotation.153.distance.9.frame.3994',\n       'img.1600x1000.date.2022-07-11_23-57-18.hitname.face_625.rotation.32.distance.5.frame.4262',\n       'img.1600x1000.date.2022-08-04_20-02-26.hitname.NPC-4605.rotation.113.distance.6.frame.10644',\n       'img.1600x1000.date.2022-07-07_19-46-44.hitname.face_627.rotation.12.distance.2.frame.64613',\n       'img.1600x1000.date.2022-07-07_19-13-55.hitname.baum ld1(enhanced).rotation.84.distance.19.frame.2243',\n       'img.1600x1000.date.2022-07-07_19-25-28.hitname.B027.rotation.73.distance.11.frame.22497',\n       'img.1600x1000.date.2022-07-12_00-24-17.hitname.bottle02 (2).rotation.47.distance.7.frame.56627',\n       'img.1600x1000.date.2022-07-07_19-27-17.hitname.face_4609.rotation.15.distance.1.frame.25661',\n       'img.1600x1000.date.2022-07-07_19-39-01.hitname.metalBench (3).rotation.34.distance.7.frame.50341',\n       'img.1600x1000.date.2022-07-08_00-27-17.hitname.Chairs (5).rotation.129.distance.2.frame.93857',\n       'img.1600x1000.date.2022-07-07_19-39-10.hitname.trashcan_squarePrefab (7).rotation.166.distance.5.frame.50621',\n       'img.1600x1000.date.2022-08-04_22-04-48.hitname.NPC (212)(Clone).rotation.37.distance.11.frame.107132',\n       'img.1600x1000.date.2022-07-12_00-42-19.hitname.newspaperBundle01 (3).rotation.75.distance.1.frame.106007',\n       'img.1600x1000.date.2022-07-12_00-01-19.hitname.Trashcans_mesh (4).rotation.154.distance.30.frame.13992',\n       'img.1600x1000.date.2022-07-07_19-37-24.hitname.face_4209.rotation.93.distance.1.frame.46662',\n       'img.1600x1000.date.2022-08-04_20-22-56.hitname.Sitting_NPC (4165).rotation.66.distance.8.frame.82677',\n       'img.1600x1000.date.2022-07-12_00-00-25.hitname.face_4209.rotation.5.distance.5.frame.11877',\n       'img.1600x1000.date.2022-08-04_20-02-06.hitname.Sitting_NPC (4165).rotation.18.distance.11.frame.9983',\n       'img.1600x1000.date.2022-07-07_19-37-42.hitname.B001.rotation.10.distance.43.frame.47607',\n       'img.1600x1000.date.2022-07-11_20-45-49.hitname.metalBench (2).rotation.108.distance.11.frame.160517',\n       'img.1600x1000.date.2022-07-07_19-25-45.hitname.B027.rotation.59.distance.5.frame.22867',\n       'img.1600x1000.date.2022-07-07_21-43-47.hitname.face_4161.rotation.4.distance.1.frame.123476',\n       'img.1600x1000.date.2022-07-08_00-30-29.hitname.Motor (1).rotation.136.distance.5.frame.100478',\n       'img.1600x1000.date.2022-07-07_19-37-33.hitname.face_4203.rotation.13.distance.1.frame.47224',\n       'img.1600x1000.date.2022-08-04_19-21-47.hitname.NPC (4203).rotation.95.distance.1.frame.46755',\n       'img.1600x1000.date.2022-07-07_19-38-19.hitname.face_4626.rotation.12.distance.4.frame.48839',\n       'img.1600x1000.date.2022-07-07_19-57-21.hitname.baum ld0(enhanced).rotation.86.distance.14.frame.86942',\n       'img.1600x1000.date.2022-07-11_23-59-31.hitname.face_4605.rotation.9.distance.4.frame.9656',\n       'img.1600x1000.date.2022-07-08_00-33-45.hitname.5 (3).rotation.83.distance.82.frame.107889',\n       'img.1600x1000.date.2022-07-08_00-47-11.hitname.streetLight2 (37).rotation.51.distance.33.frame.139131',\n       'img.1600x1000.date.2022-07-07_19-53-15.hitname.face_217.rotation.8.distance.1.frame.78367',\n       'img.1600x1000.date.2022-07-08_00-53-57.hitname.Bench (3).rotation.75.distance.3.frame.153731',\n       'img.1600x1000.date.2022-07-12_00-18-52.hitname.face_4061.rotation.26.distance.4.frame.46446',\n       'img.1600x1000.date.2022-07-07_19-32-09.hitname.StreetBox01.rotation.8.distance.36.frame.37486',\n       'img.1600x1000.date.2022-07-12_00-59-57.hitname.face_4629.rotation.73.distance.4.frame.154493',\n       'img.1600x1000.date.2022-08-04_20-02-08.hitname.Sitting_NPC (424).rotation.12.distance.11.frame.10018',\n       'img.1600x1000.date.2022-07-08_00-27-24.hitname.face_413.rotation.9.distance.6.frame.94044',\n       'img.1600x1000.date.2022-07-08_00-42-07.hitname.hydrant01.rotation.24.distance.8.frame.129234',\n       'img.1600x1000.date.2022-07-07_20-03-02.hitname.Cathedral.rotation.3.distance.17.frame.101222',\n       'img.1600x1000.date.2022-08-04_22-04-43.hitname.NPC (212)(Clone).rotation.140.distance.9.frame.107021',\n       'img.1600x1000.date.2022-07-08_00-18-41.hitname.B027.rotation.175.distance.21.frame.72611',\n       'img.1600x1000.date.2022-07-12_00-48-37.hitname.Bench (3).rotation.57.distance.6.frame.123609',\n       'img.1600x1000.date.2022-07-07_19-37-03.hitname.face_4203.rotation.14.distance.2.frame.46064',\n       'img.1600x1000.date.2022-08-04_19-20-43.hitname.Sitting_NPC (412).rotation.9.distance.3.frame.42529',\n       'img.1600x1000.date.2022-07-08_00-53-42.hitname.face_422.rotation.101.distance.3.frame.153336',\n       'img.1600x1000.date.2022-08-04_22-19-30.hitname.Sitting_NPC (422).rotation.132.distance.3.frame.154429',\n       'img.1600x1000.date.2022-08-04_19-48-21.hitname.Sitting_NPC (4241).rotation.0.distance.4.frame.123172',\n       'img.1600x1000.date.2022-07-07_19-31-05.hitname.Trashcans_mesh (3).rotation.177.distance.9.frame.34867',\n       'img.1600x1000.date.2022-07-07_20-08-54.hitname.B001.rotation.24.distance.16.frame.113886',\n       'img.1600x1000.date.2022-08-04_19-12-25.hitname.Sitting_NPC (421).rotation.140.distance.6.frame.16832',\n       'img.1600x1000.date.2022-07-07_19-36-48.hitname.face_4203.rotation.19.distance.3.frame.45703',\n       'img.1600x1000.date.2022-07-07_19-36-49.hitname.face_4209.rotation.113.distance.2.frame.45724',\n       'img.1600x1000.date.2022-08-04_20-43-04.hitname.New_NPC (59)(Clone).rotation.6.distance.10.frame.148549',\n       'img.1600x1000.date.2022-08-04_19-29-04.hitname.Sitting_NPC (422).rotation.84.distance.2.frame.70840',\n       'img.1600x1000.date.2022-07-07_21-44-19.hitname.trashcan_squarePrefab (7).rotation.57.distance.1.frame.124413',\n       'img.1600x1000.date.2022-07-12_00-19-55.hitname.Chairs (7).rotation.7.distance.6.frame.48093',\n       'img.1600x1000.date.2022-07-08_00-04-51.hitname.metalBench (5).rotation.116.distance.7.frame.44736',\n       'img.1600x1000.date.2022-08-04_19-20-38.hitname.NPC-603.rotation.72.distance.28.frame.42315',\n       'img.1600x1000.date.2022-07-07_19-36-38.hitname.face_4208.rotation.54.distance.4.frame.45456',\n       'img.1600x1000.date.2022-07-07_19-36-53.hitname.face_4208.rotation.54.distance.1.frame.45819',\n       'img.1600x1000.date.2022-08-04_21-40-08.hitname.NPC-4623.rotation.77.distance.4.frame.29217',\n       'img.1600x1000.date.2022-08-04_19-23-38.hitname.NPC-4605.rotation.161.distance.6.frame.51472',\n       'img.1600x1000.date.2022-07-07_19-38-48.hitname.face_4626.rotation.8.distance.1.frame.50048',\n       'img.1600x1000.date.2022-08-04_19-13-07.hitname.Sitting_NPC (404).rotation.141.distance.2.frame.17935',\n       'img.1600x1000.date.2022-08-04_19-22-51.hitname.NPC-4626.rotation.0.distance.2.frame.49671',\n       'img.1600x1000.date.2022-07-07_19-35-03.hitname.face_412.rotation.8.distance.3.frame.42650',\n       'img.1600x1000.date.2022-07-08_00-25-33.hitname.face_4165.rotation.43.distance.5.frame.88881',\n       'img.1600x1000.date.2022-07-07_19-28-29.hitname.powerCabinet.rotation.158.distance.19.frame.28303',\n       'img.1600x1000.date.2022-08-04_20-44-44.hitname.NPC-4628.rotation.62.distance.6.frame.154317',\n       'img.1600x1000.date.2022-07-07_19-38-28.hitname.face_4627.rotation.111.distance.2.frame.49061',\n       'img.1600x1000.date.2022-07-08_00-30-09.hitname.BasketballHoop1Prefab (1).rotation.58.distance.10.frame.100029',\n       'img.1600x1000.date.2022-08-04_20-30-46.hitname.NPC-611.rotation.164.distance.12.frame.104193',\n       'img.1600x1000.date.2022-07-07_23-45-29.hitname.infoKiosk02.rotation.62.distance.21.frame.3017',\n       'img.1600x1000.date.2022-08-04_19-48-48.hitname.NPC-4627.rotation.32.distance.9.frame.124109',\n       'img.1600x1000.date.2022-08-04_20-02-22.hitname.Sitting_NPC (4241).rotation.179.distance.5.frame.10422',\n       'img.1600x1000.date.2022-07-07_19-16-36.hitname.5 (3).rotation.83.distance.73.frame.8032',\n       'img.1600x1000.date.2022-07-07_20-02-08.hitname.EU_TrafficLight_01 (1).rotation.16.distance.14.frame.99489',\n       'img.1600x1000.date.2022-08-04_19-15-10.hitname.NPC-4609.rotation.9.distance.4.frame.25000',\n       'img.1600x1000.date.2022-07-12_00-09-21.hitname.redFlyer_B011 (2).rotation.24.distance.9.frame.28684',\n       'img.1600x1000.date.2022-08-04_19-26-59.hitname.NPC-625.rotation.165.distance.6.frame.63963',\n       'img.1600x1000.date.2022-07-12_00-04-39.hitname.Book.rotation.49.distance.7.frame.20395',\n       'img.1600x1000.date.2022-07-07_19-30-17.hitname.StreetBox01.rotation.171.distance.9.frame.32848',\n       'img.1600x1000.date.2022-08-04_19-23-52.hitname.NPC-4605.rotation.178.distance.4.frame.52009',\n       'img.1600x1000.date.2022-08-04_19-27-16.hitname.NPC-627.rotation.9.distance.2.frame.64656',\n       'img.1600x1000.date.2022-07-07_19-18-19.hitname.face_627.rotation.29.distance.7.frame.11185',\n       'img.1600x1000.date.2022-08-04_22-01-55.hitname.New_NPC (37)(Clone).rotation.167.distance.13.frame.98028',\n       'img.1600x1000.date.2022-07-12_01-02-09.hitname.House1.rotation.54.distance.72.frame.160476',\n       'img.1600x1000.date.2022-08-04_19-22-30.hitname.NPC-4627.rotation.128.distance.4.frame.48738',\n       'img.1600x1000.date.2022-08-04_20-05-14.hitname.NPC-4608.rotation.20.distance.7.frame.20273',\n       'img.1600x1000.date.2022-07-07_20-03-00.hitname.face_618.rotation.48.distance.5.frame.101167',\n       'img.1600x1000.date.2022-08-04_19-20-39.hitname.NPC-607.rotation.117.distance.5.frame.42365',\n       'img.1600x1000.date.2022-08-04_19-21-38.hitname.NPC (4209).rotation.93.distance.1.frame.46316',\n       'img.1600x1000.date.2022-08-04_21-40-07.hitname.NPC-4621.rotation.141.distance.3.frame.29186',\n       'img.1600x1000.date.2022-07-07_21-39-59.hitname.face_416.rotation.55.distance.5.frame.115223',\n       'img.1600x1000.date.2022-07-07_19-44-28.hitname.store2.rotation.59.distance.27.frame.60429',\n       'img.1600x1000.date.2022-07-12_00-42-10.hitname.newspaperBundle01 (3).rotation.76.distance.4.frame.105785',\n       'img.1600x1000.date.2022-08-04_21-44-09.hitname.NPC-4605.rotation.52.distance.8.frame.45128',\n       'img.1600x1000.date.2022-07-07_19-23-12.hitname.mailbox01 (2).rotation.89.distance.6.frame.19029',\n       'breakMessage', 'endMessage'], dtype=object)"
     },
     "execution_count": 26,
     "metadata": {},
     "output_type": "execute_result"
    }
   ],
   "source": [
    "# inspect the unique values in imageName\n",
    "df['imageName_ImageInfo'].unique()\n",
    "# the images names contain other relevant metadata such as:\n",
    "# img.1600x1000.date.2022-07-07_19-36-43.hitname.face_4208.rotation.54.distance.3.frame.45567"
   ],
   "metadata": {
    "collapsed": false
   }
  },
  {
   "cell_type": "markdown",
   "source": [
    "## Task 1:\n",
    "<strong>Identify the shifts in the imageInfo stream and save them to a new columns called _\"shift\"_</strong>\n",
    "\n",
    "Hint: We can compare the rows of the _imageName_ column with each other identifying every first time it changes from startMessage to grayCanvas or to something else.\n",
    "\n",
    "Test your results against the unit tests in the next cell."
   ],
   "metadata": {
    "collapsed": false
   }
  },
  {
   "cell_type": "code",
   "execution_count": 17,
   "outputs": [],
   "source": [
    "# identify the shifts in the imageInfo stream\n"
   ],
   "metadata": {
    "collapsed": false
   }
  },
  {
   "cell_type": "code",
   "execution_count": null,
   "outputs": [],
   "source": [
    "%%unittest\n",
    "# Test your result against the expected outcome\n",
    "# when correct, it returns 'Success'\n",
    "assert 'shift' in df.head()\n",
    "assert len(df[df['shift']]) == 5045"
   ],
   "metadata": {
    "collapsed": false
   }
  },
  {
   "cell_type": "markdown",
   "source": [
    "## Task 2:\n",
    "<strong>Extract the names of objets, bodies, and faces from the image name and store in a separate column _\"ob_names\"_</strong>\n",
    "\n",
    "Hint: we can apply a lambda function on the DataFrame to create new series of values. Here some sources:\n",
    "- [Applying a function along an axis of the DataFrame.](https://pandas.pydata.org/docs/reference/api/pandas.DataFrame.apply.html)\n",
    "- [Lambdas documentation](https://book.pythontips.com/en/latest/lambdas.html)\n",
    "- [Python lambda Tutorial](https://www.datacamp.com/tutorial/python-lambda)\n",
    "\n",
    "Test your results against the unit tests in the next cell."
   ],
   "metadata": {
    "collapsed": false
   }
  },
  {
   "cell_type": "code",
   "execution_count": 33,
   "outputs": [],
   "source": [
    "# save the names of the object, body or face shown in the image\n",
    "df['ob_names'] =\n"
   ],
   "metadata": {
    "collapsed": false
   }
  },
  {
   "cell_type": "code",
   "execution_count": null,
   "outputs": [],
   "source": [
    "%%unittest\n",
    "# Test your result against the expected outcome\n",
    "assert 'ob_names' in df.head()\n",
    "assert len(df['ob_names'].unique()) == 103"
   ],
   "metadata": {
    "collapsed": false
   }
  },
  {
   "cell_type": "markdown",
   "source": [
    "## Task3:\n",
    "<strong>Create a new column called \"latency\" containing the exact time when an image was first displayed.</strong>\n",
    "\n",
    "These will correspond to the times indicating the stimulus onsets for the even related potential (ERP), which are usually called _\"latency\"_ in the EEG trigger files.\n",
    "\n",
    "Hint: again we can apply a lambda function on the DataFrame to create new series of values.\n",
    "\n",
    "Test your results against the unit tests in the next cell."
   ],
   "metadata": {
    "collapsed": false
   }
  },
  {
   "cell_type": "code",
   "execution_count": 19,
   "outputs": [],
   "source": [
    "# save the starting time (aka 'latency') when image is displayed\n",
    "df['latency'] =\n"
   ],
   "metadata": {
    "collapsed": false
   }
  },
  {
   "cell_type": "markdown",
   "source": [
    "## Task 4:\n",
    "<strong>Save the type of image that was displayed (face, object, body) in a column called _\"type\"_</strong>\n",
    "\n",
    "Hint: we can again apply a lambda function on the DataFrame to create new series of values depending on the string type in a column and values in a different column.\n",
    "\n",
    "Test your results against the unit tests in the next cell."
   ],
   "metadata": {
    "collapsed": false
   }
  },
  {
   "cell_type": "code",
   "execution_count": 20,
   "outputs": [],
   "source": [
    "# save the type of image displaying (face, object, body)\n",
    "df['type'] =\n"
   ],
   "metadata": {
    "collapsed": false
   }
  },
  {
   "cell_type": "code",
   "execution_count": null,
   "outputs": [],
   "source": [
    "%%unittest\n",
    "# Test your result against the expected outcome\n",
    "assert 'type' in df.head()\n",
    "assert len(df['type'].unique()) == 4\n",
    "assert len(df[df['type'] == 'body']) == 560\n",
    "assert len(df[df['type'] == 'face']) == 560\n",
    "assert len(df[df['type'] == 'object']) == 560"
   ],
   "metadata": {
    "collapsed": false
   }
  },
  {
   "cell_type": "markdown",
   "source": [
    "## Task 4:\n",
    "<strong>Define the triggers for rotation, distance, and block</strong>\n",
    "\n",
    "Finally, we can define the stimulus onsets for rotation, distance, and block in the same way we have defined it for faces.\n",
    "Aftweward, we just need to save the stimulus onsets into a single _\"triggers\"_ dataframe"
   ],
   "metadata": {
    "collapsed": false
   }
  },
  {
   "cell_type": "code",
   "execution_count": 21,
   "outputs": [
    {
     "data": {
      "text/plain": "            latency    type rotation distance block\n852        9.726232    face       54        3     0\n1026      11.659936    face       11        4     0\n1171      13.271228    face       70        6     0\n1327      15.016206  object      122       10     0\n1474      16.649466    body        5        1     0\n...             ...     ...      ...      ...   ...\n335878  3871.356952    body      140        6     3\n336022  3872.957275    face       12        4     3\n336186  3874.779939  object      122       10     3\n336368  3876.802336    face        7        1     3\n336515  3878.447059  object       73       11     3\n\n[1680 rows x 5 columns]",
      "text/html": "<div>\n<style scoped>\n    .dataframe tbody tr th:only-of-type {\n        vertical-align: middle;\n    }\n\n    .dataframe tbody tr th {\n        vertical-align: top;\n    }\n\n    .dataframe thead th {\n        text-align: right;\n    }\n</style>\n<table border=\"1\" class=\"dataframe\">\n  <thead>\n    <tr style=\"text-align: right;\">\n      <th></th>\n      <th>latency</th>\n      <th>type</th>\n      <th>rotation</th>\n      <th>distance</th>\n      <th>block</th>\n    </tr>\n  </thead>\n  <tbody>\n    <tr>\n      <th>852</th>\n      <td>9.726232</td>\n      <td>face</td>\n      <td>54</td>\n      <td>3</td>\n      <td>0</td>\n    </tr>\n    <tr>\n      <th>1026</th>\n      <td>11.659936</td>\n      <td>face</td>\n      <td>11</td>\n      <td>4</td>\n      <td>0</td>\n    </tr>\n    <tr>\n      <th>1171</th>\n      <td>13.271228</td>\n      <td>face</td>\n      <td>70</td>\n      <td>6</td>\n      <td>0</td>\n    </tr>\n    <tr>\n      <th>1327</th>\n      <td>15.016206</td>\n      <td>object</td>\n      <td>122</td>\n      <td>10</td>\n      <td>0</td>\n    </tr>\n    <tr>\n      <th>1474</th>\n      <td>16.649466</td>\n      <td>body</td>\n      <td>5</td>\n      <td>1</td>\n      <td>0</td>\n    </tr>\n    <tr>\n      <th>...</th>\n      <td>...</td>\n      <td>...</td>\n      <td>...</td>\n      <td>...</td>\n      <td>...</td>\n    </tr>\n    <tr>\n      <th>335878</th>\n      <td>3871.356952</td>\n      <td>body</td>\n      <td>140</td>\n      <td>6</td>\n      <td>3</td>\n    </tr>\n    <tr>\n      <th>336022</th>\n      <td>3872.957275</td>\n      <td>face</td>\n      <td>12</td>\n      <td>4</td>\n      <td>3</td>\n    </tr>\n    <tr>\n      <th>336186</th>\n      <td>3874.779939</td>\n      <td>object</td>\n      <td>122</td>\n      <td>10</td>\n      <td>3</td>\n    </tr>\n    <tr>\n      <th>336368</th>\n      <td>3876.802336</td>\n      <td>face</td>\n      <td>7</td>\n      <td>1</td>\n      <td>3</td>\n    </tr>\n    <tr>\n      <th>336515</th>\n      <td>3878.447059</td>\n      <td>object</td>\n      <td>73</td>\n      <td>11</td>\n      <td>3</td>\n    </tr>\n  </tbody>\n</table>\n<p>1680 rows × 5 columns</p>\n</div>"
     },
     "execution_count": 21,
     "metadata": {},
     "output_type": "execute_result"
    }
   ],
   "source": [
    "# define the triggers for rotation, distance, and block\n",
    "df['rotation'] =\n",
    "\n",
    "df['distance'] =\n",
    "\n",
    "df['block'] =\n",
    "\n",
    "# select the trigger columns and non-empty rows\n",
    "df_selected = df[['latency','type','rotation','distance','block']]\n",
    "df_triggers = df_selected[df_selected['latency'] != '']\n",
    "df_triggers"
   ],
   "metadata": {
    "collapsed": false
   }
  }
 ],
 "metadata": {
  "kernelspec": {
   "display_name": "Python 3",
   "language": "python",
   "name": "python3"
  },
  "language_info": {
   "codemirror_mode": {
    "name": "ipython",
    "version": 2
   },
   "file_extension": ".py",
   "mimetype": "text/x-python",
   "name": "python",
   "nbconvert_exporter": "python",
   "pygments_lexer": "ipython2",
   "version": "2.7.6"
  }
 },
 "nbformat": 4,
 "nbformat_minor": 0
}
